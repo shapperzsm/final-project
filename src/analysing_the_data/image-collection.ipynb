{
 "cells": [
  {
   "cell_type": "code",
   "metadata": {},
   "outputs": [],
   "source": [
    "from pathlib import *\n",
    "import sqlalchemy as sa\n",
    "import pandas as pd\n",
    "import os\n",
    "import matplotlib.pyplot as plt\n",
    "plt.rcParams.update({'figure.max_open_warning': 0})\n",
    "\n",
    "database_management_sys = sa.create_engine('sqlite:///../../../../Desktop/rerun-data-no-long-run/se/main.db')\n",
    "connect_dbms_to_db = database_management_sys.connect()"
   ]
  },
  {
   "cell_type": "code",
   "metadata": {},
   "outputs": [],
   "source": [
    "table_headings = pd.read_sql(\"folk_theorem_experiment\", connect_dbms_to_db).columns.tolist()\n",
    "table_headings"
   ]
  },
  {
   "cell_type": "code",
   "metadata": {},
   "outputs": [],
   "source": [
    "max_tournament_player_set = \"\"\"\n",
    "    SELECT MAX(tournament_player_set) FROM folk_theorem_experiment\n",
    "\"\"\"\n",
    "max_num_of_player_sets = pd.read_sql(max_tournament_player_set, connect_dbms_to_db)\n",
    "maximum_player_set = max_num_of_player_sets[\"MAX(tournament_player_set)\"][0]\n",
    "maximum_player_set"
   ]
  },
  {
   "cell_type": "code",
   "metadata": {},
   "outputs": [],
   "source": [
    "player_set_collection = \"\"\"\n",
    "    SELECT * FROM folk_theorem_experiment\n",
    "    WHERE tournament_player_set = ?\n",
    "\"\"\""
   ]
  },
  {
   "cell_type": "code",
   "metadata": {},
   "outputs": [],
   "source": [
    "#for num_of_sets in range(maximum_player_set):\n",
    "for num_of_sets in [0, 24, 53, 70, 94]:\n",
    "     collect_relevant_data = connect_dbms_to_db.execute(player_set_collection, num_of_sets)\n",
    "     num_of_set_data = pd.DataFrame(collect_relevant_data.fetchall(), columns=table_headings)\n",
    "\n",
    "     num_of_players = num_of_set_data[\"number_of_players\"][0]\n",
    "\n",
    "     for noise in list(num_of_set_data[\"noise\"].drop_duplicates()):\n",
    "\n",
    "          p = Path(\"../../images/folk_thm/single_game/\" + str(num_of_players) + \"/\" + str(num_of_sets) + \"/\" + str(noise) + \"/\")\n",
    "          if p.exists() == False:\n",
    "               p.mkdir(parents=True)\n",
    "               print(str(p) + \" was created.\")\n",
    "          else:\n",
    "               print(str(p) + \" already exists.\")\n",
    "\n",
    "          markdown_path = p / \"README.md\"\n",
    "          strategy_table = pd.DataFrame(num_of_set_data[[\"player_strategy_name\", \"is_long_run_time\", \"is_stochastic\", \"memory_depth_of_strategy\"]].iloc[list(range(num_of_players))])                   \n",
    "          README = open(str(markdown_path), \"w\")\n",
    "          README.write(\"# Single Game Plot \\n\" + \"Player Strategy Data:\\n\"+ str(strategy_table) + \"\\n ## Noise = \" + str(noise))\n",
    "          README.close()\n",
    "          \n",
    "          specific_noise_data = num_of_set_data[num_of_set_data[\"noise\"] == noise]\n",
    "          if specific_noise_data[\"warning_message\"].all() == \"None\":\n",
    "               plot_path = p / \"main.pdf\"\n",
    "               graph = plt.figure()\n",
    "               axes = graph.add_subplot(1, 1, 1)\n",
    "               axes.set_xlabel(\"$p =$ the probability of the game ending\" )\n",
    "               axes.set_ylabel(\"probability of defection in equilibria\")\n",
    "               axes.plot(specific_noise_data[\"prob_of_game_ending\"], specific_noise_data[\"least_prob_of_defection\"], \"r\", label = \"least prob of defection\")\n",
    "               axes.plot(specific_noise_data[\"prob_of_game_ending\"], specific_noise_data[\"greatest_prob_of_defection\"], \"y--\", label = \"greatest prob of defection\")\n",
    "               axes.legend()\n",
    "               graph.savefig(str(plot_path)) \n",
    "               plt.close()\n",
    "          else:\n",
    "               plot_path = p / \"main.pdf\"\n",
    "               graph = plt.figure()\n",
    "               axes = graph.add_subplot(1, 1, 1)\n",
    "               axes.set_xlabel(\"$p =$ the probability of the game ending\" )\n",
    "               axes.set_ylabel(\"probability of defection in equilibria\")\n",
    "               degenerate_data = specific_noise_data[specific_noise_data[\"warning_message\"] != \"None\"]\n",
    "               non_degen_data = specific_noise_data[specific_noise_data[\"warning_message\"] == \"None\"]\n",
    "               colours = [\"r\", \"y\", \"b\", \"g\"]\n",
    "               linestyles = [\"-\", \"--\", \"-\", \"--\"]\n",
    "               data_list = [non_degen_data[\"least_prob_of_defection\"], non_degen_data[\"greatest_prob_of_defection\"], degenerate_data[\"least_prob_of_defection\"], degenerate_data[\"greatest_prob_of_defection\"]]\n",
    "               label_list = [\"least prob of defection\", \"greatest prob of defection\", \"least prob of defection (could be degenerate)\", \"greatest prob of defection (could be degenerate)\"]\n",
    "               game_ending_probabilities = [non_degen_data[\"prob_of_game_ending\"], non_degen_data[\"prob_of_game_ending\"], degenerate_data[\"prob_of_game_ending\"], degenerate_data[\"prob_of_game_ending\"]]\n",
    "               for xvalues, data, linestyle, colour, label in zip(game_ending_probabilities, data_list, linestyles, colours, label_list):\n",
    "                    axes.plot(xvalues, data, linestyle=linestyle, color=colour, label=label)\n",
    "               axes.legend()\n",
    "               graph.savefig(str(plot_path)) \n",
    "               plt.close()\n",
    "               \n",
    "               degenerate_experiment_num = degenerate_data[\"experiment_number\"]\n",
    "               degenerate_payoff_matrices = degenerate_data[\"payoff_matrix\"]\n",
    "               degenerate_details = pd.concat([degenerate_experiment_num, degenerate_payoff_matrices], axis=1)\n",
    "               degen_markdown_path = p / \"degenerate.md\"\n",
    "               degenerate_info = open(str(degen_markdown_path), \"w\")\n",
    "               degenerate_info.write(\"# Potentially degenerate games were used in this plot.\\n\" + \"## Details of specific games which could be degenerate.\\n\" + str(degenerate_details))\n",
    "               degenerate_info.close()"
   ]
  },
  {
   "cell_type": "code",
   "metadata": {},
   "outputs": [],
   "source": []
  },
  {
   "cell_type": "code",
   "metadata": {},
   "outputs": [],
   "source": [
    "dbms = sa.create_engine('sqlite:///../Database-code/data/vertex_enumeration/main.db')\n",
    "connect_to_db = database_management_sys.connect()"
   ]
  },
  {
   "cell_type": "code",
   "metadata": {},
   "outputs": [],
   "source": []
  }
 ],
 "metadata": {
  "kernelspec": {
   "display_name": "Python 3",
   "language": "python",
   "name": "python3"
  },
  "language_info": {
   "codemirror_mode": {
    "name": "ipython",
    "version": 3
   },
   "file_extension": ".py",
   "mimetype": "text/x-python",
   "name": "python",
   "nbconvert_exporter": "python",
   "pygments_lexer": "ipython3",
   "version": "3.7.3"
  }
 },
 "nbformat": 4,
 "nbformat_minor": 2
}