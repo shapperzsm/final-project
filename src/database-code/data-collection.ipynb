{
 "nbformat": 4,
 "nbformat_minor": 2,
 "metadata": {
  "language_info": {
   "name": "python",
   "codemirror_mode": {
    "name": "ipython",
    "version": 3
   }
  },
  "orig_nbformat": 2,
  "file_extension": ".py",
  "mimetype": "text/x-python",
  "name": "python",
  "npconvert_exporter": "python",
  "pygments_lexer": "ipython3",
  "version": 3
 },
 "cells": [
  {
   "cell_type": "code",
   "execution_count": 8,
   "metadata": {},
   "outputs": [],
   "source": [
    "import numpy as np\n",
    "import nashpy as nash\n",
    "import axelrod as axl\n",
    "import random\n",
    "import sqlalchemy as sa\n",
    "dbms = sa.create_engine('sqlite:///Experiment_Database.db')\n",
    "connect_dbms_to_db = dbms.connect()"
   ]
  },
  {
   "cell_type": "code",
   "execution_count": 3,
   "metadata": {},
   "outputs": [],
   "source": [
    "import warnings"
   ]
  },
  {
   "cell_type": "code",
   "execution_count": 1,
   "metadata": {},
   "outputs": [],
   "source": [
    "import functions"
   ]
  },
  {
   "cell_type": "code",
   "execution_count": 100,
   "metadata": {},
   "outputs": [
    {
     "data": {
      "text/plain": "[Slow Tit For Two Tats 2,\n Stalker: (D,),\n Alternator,\n Win-Shift Lose-Stay: D,\n Eatherley,\n Defector]"
     },
     "execution_count": 100,
     "metadata": {},
     "output_type": "execute_result"
    }
   ],
   "source": [
    "players = functions.who_is_playing(5)\n",
    "#players[0].name\n",
    "#players[0].classifier['stochastic']\n",
    "#players[0].classifier['memory_depth']\n",
    "#players[0].classifier['long_run_time']\n",
    "players"
   ]
  },
  {
   "cell_type": "code",
   "execution_count": 6,
   "metadata": {},
   "outputs": [],
   "source": [
    "read_into_sql = \"\"\"\n",
    "    INSERT into folk_theorem_experiment \n",
    "        (experiment_number, player_strategy_name, is_long_run_time, is_stochastic, memory_depth_of_strategy, prob_of_game_ending, payoff_matrix, num_of_repetitions, num_of_equilibria, nash_equilibria, least_prob_of_defection, greatest_prob_of_defection, noise, could_be_degenerate)\n",
    "    VALUES \n",
    "        (?, ?, ?, ?, ?, ?, ?, ?, ?, ?, ?, ?, ?, ?)\n",
    "\"\"\""
   ]
  },
  {
   "cell_type": "code",
   "execution_count": 101,
   "metadata": {},
   "outputs": [
    {
     "name": "stderr",
     "output_type": "stream",
     "text": "C:\\Users\\sophi\\Anaconda3\\lib\\site-packages\\nashpy\\algorithms\\support_enumeration.py:196: RuntimeWarning: \nAn even number of (2) equilibria was returned. This\nindicates that the game is degenerate. Consider using another algorithm\nto investigate.\n                  \n  warnings.warn(warning, RuntimeWarning)\n"
    },
    {
     "data": {
      "text/plain": "{'nash equilibria': array([[[ 0.00000000e+00,  0.00000000e+00,  0.00000000e+00,\n          -0.00000000e+00,  0.00000000e+00,  1.00000000e+00],\n         [ 0.00000000e+00,  0.00000000e+00,  0.00000000e+00,\n          -0.00000000e+00,  0.00000000e+00,  1.00000000e+00]],\n \n        [[ 4.15962294e-20,  0.00000000e+00,  4.95817091e-01,\n           1.46500521e-01,  1.79889433e-01,  1.77792956e-01],\n         [ 4.15962294e-20,  0.00000000e+00,  4.95817091e-01,\n           1.46500521e-01,  1.79889433e-01,  1.77792956e-01]]]),\n 'least prob of defect': 0.17779295590767769,\n 'greatest prob of defect': 1.0}"
     },
     "execution_count": 101,
     "metadata": {},
     "output_type": "execute_result"
    }
   ],
   "source": [
    "trial_run = functions.get_game(tournament_repeat=12, player_list=players, prob_of_game_ending=0.01, set_seed=123, noise=0)\n",
    "matrix = trial_run['payoff matrix obtained']\n",
    "defect = functions.get_prob_of_defection(matrix, \"Support Enumeration\")\n",
    "defect"
   ]
  },
  {
   "cell_type": "code",
   "execution_count": 7,
   "metadata": {},
   "outputs": [],
   "source": [
    "for player in players:\n",
    "    functions.write_record(experiment_number=1, player_strategy_name=player, is_long_run_time=player.classifier['long_run_time'], is_stochastic=player.classifier['stochastic'], memory_depth_of_strategy=player.classifier['memory_depth'], prob_of_game_ending=trial_run['probability of game ending'], payoff_matrix=trial_run['payoff matrix obtained'], num_of_repetitions=trial_run['number of tournament repeats'], nash_equilibria=defect['nash equilibria'], least_prob_of_defection=defect['least prob of defect'], greatest_prob_of_defection=defect['greatest prob of defect'], noise=trial_run['noise'], could_be_degenerate=False)"
   ]
  },
  {
   "cell_type": "code",
   "execution_count": 2,
   "metadata": {},
   "outputs": [],
   "source": [
    "functions.run_experiment(max_num_of_opponents=4, tournament_repeats=10, game_ending_probs=[0.01, 0.22, 0.7], seed=123, equilibrium_algorithm=\"Support Enumeration\", noise=0, num_of_opponents=1)"
   ]
  },
  {
   "cell_type": "code",
   "execution_count": 4,
   "metadata": {},
   "outputs": [
    {
     "data": {
      "text/plain": "array([0.001 , 0.2505, 0.5   , 0.7495, 0.999 ])"
     },
     "execution_count": 4,
     "metadata": {},
     "output_type": "execute_result"
    }
   ],
   "source": [
    "import numpy as np\n",
    "prob_of_game_end = np.linspace(0.001, 1-0.001, 5)\n",
    "prob_of_game_end"
   ]
  },
  {
   "cell_type": "code",
   "execution_count": null,
   "metadata": {},
   "outputs": [],
   "source": []
  }
 ]
}