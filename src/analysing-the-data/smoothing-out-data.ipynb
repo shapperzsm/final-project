{
 "nbformat": 4,
 "nbformat_minor": 2,
 "metadata": {
  "language_info": {
   "name": "python",
   "codemirror_mode": {
    "name": "ipython",
    "version": 3
   },
   "version": "3.7.3"
  },
  "orig_nbformat": 2,
  "file_extension": ".py",
  "mimetype": "text/x-python",
  "name": "python",
  "npconvert_exporter": "python",
  "pygments_lexer": "ipython3",
  "version": 3
 },
 "cells": [
  {
   "cell_type": "code",
   "execution_count": 1,
   "metadata": {},
   "outputs": [],
   "source": [
    "import numpy as np\n",
    "import nashpy as nash\n",
    "import axelrod as axl\n",
    "import random\n",
    "import warnings\n",
    "import sqlalchemy as sa\n",
    "import os\n",
    "from path import *\n",
    "import matplotlib.pyplot as plt"
   ]
  },
  {
   "cell_type": "code",
   "execution_count": 2,
   "metadata": {},
   "outputs": [],
   "source": [
    "noise_probabilities = np.linspace(0, 1, 11)\n",
    "game_ending_probabilities = np.linspace(0.001, 1 - 0.001, 100)"
   ]
  },
  {
   "cell_type": "code",
   "execution_count": 3,
   "metadata": {},
   "outputs": [],
   "source": [
    "def get_game(tournament_rep, player_list, prob_of_game_ending, noise):\n",
    "\n",
    "    \"\"\"\n",
    "    A function which runs a tournament of A Prisoner's Dilemma and returns a dictionary containing the following: 'payoff matrix obtained' (an output from the Axelrod tournament function), 'number of tournament repeats' (from 'tournament_rep'), 'probability of game ending' (from 'prob_of_game_ending) and 'noise' (from 'noise'), where:\n",
    "\n",
    "    'tournament_rep' is a numeric variable stating how many times the tournament should be executed;\n",
    "\n",
    "    'player_list' is a list containing instances of specific strategy classes obtained from the Axelrod library;\n",
    "\n",
    "    'prob_of_game_ending' is a numeric variable between 0 and 1 which states the probability of the tournament ending on any specific turn; and\n",
    "\n",
    "    'noise' is a numeric variable between 0 and 1 as described on https://axelrod.readthedocs.io/en/stable/tutorials/further_topics/noisy_tournaments.html and https://axelrod.readthedocs.io/en/stable/reference/glossary.html#noise.\n",
    "    \"\"\"\n",
    "\n",
    "    tournament = axl.Tournament(\n",
    "        player_list,\n",
    "        prob_end=prob_of_game_ending,\n",
    "        repetitions=tournament_rep,\n",
    "        noise=noise,\n",
    "    )\n",
    "    tournament_results = tournament.play(progress_bar=False)\n",
    "\n",
    "    mean_payoff_matrix = np.array(tournament_results.payoff_matrix)\n",
    "\n",
    "    get_game_output_dict = {\n",
    "        \"payoff matrix obtained\": mean_payoff_matrix,\n",
    "        \"number of tournament repeats\": tournament_rep,\n",
    "        \"probability of game ending\": prob_of_game_ending,\n",
    "        \"noise\": noise,\n",
    "    }\n",
    "    return get_game_output_dict"
   ]
  },
  {
   "cell_type": "code",
   "execution_count": 4,
   "metadata": {},
   "outputs": [],
   "source": [
    "def get_prob_of_defection(payoff_matrix, support_enumeration=True):\n",
    "\n",
    "    \"\"\"\n",
    "    A function which computes the Nash Equilibria of the game using one of three algorithms and returns a dictionary of the Nash Equilibria, the maximum and minimum probabilities of defection within the equilibria and whether the game could be degenerate. The input variables are:\n",
    "\n",
    "    'payoff_matrix', a numpy array containing the payoffs obtained for each action of the game; and\n",
    "\n",
    "    'support_enumeration', a boolean variable stating whether the support enumeration algorithm (if evaluated true) or the vertex enumeration algorithm (if evaluated False) is used to calculate the Nash equilibria.\n",
    "    \"\"\"\n",
    "\n",
    "    game = nash.Game(payoff_matrix, payoff_matrix.transpose())\n",
    "\n",
    "    with warnings.catch_warnings(record=True) as w:\n",
    "        warnings.simplefilter(\"always\")\n",
    "\n",
    "        if support_enumeration == True:\n",
    "            nash_equilibria = list(game.support_enumeration())\n",
    "\n",
    "        else:\n",
    "            highlight_numpy_warning = np.seterr(all=\"warn\")\n",
    "            nash_equilibria = list(game.vertex_enumeration())\n",
    "\n",
    "    if len(w) == 0:\n",
    "        warning_message = None\n",
    "\n",
    "    else:\n",
    "        warning_message = str([w[i].message for i in range(len(w))])\n",
    "\n",
    "    if (len(nash_equilibria) == 0) or (\"-Inf\" in nash_equilibria):\n",
    "        nash_equilibria = None\n",
    "        prob_of_defection_in_equilibria = None\n",
    "        least_prob_of_defection_in_equilibria = None\n",
    "        greatest_prob_of_defection_in_equilibria = None\n",
    "\n",
    "    else:\n",
    "        prob_of_defection_in_equilibria = [\n",
    "            sigma_1[-1] for sigma_1, _ in nash_equilibria\n",
    "        ]\n",
    "\n",
    "        least_prob_of_defection_in_equilibria = min(prob_of_defection_in_equilibria)\n",
    "        greatest_prob_of_defection_in_equilibria = max(prob_of_defection_in_equilibria)\n",
    "\n",
    "    get_prob_of_defect_output_dict = {\n",
    "        \"nash equilibria\": np.array(nash_equilibria),\n",
    "        \"least prob of defect\": least_prob_of_defection_in_equilibria,\n",
    "        \"greatest prob of defect\": greatest_prob_of_defection_in_equilibria,\n",
    "        \"warning message\": str(warning_message),\n",
    "    }\n",
    "\n",
    "    return get_prob_of_defect_output_dict"
   ]
  },
  {
   "cell_type": "markdown",
   "execution_count": null,
   "metadata": {},
   "outputs": [],
   "source": [
    "## 2 player, set 7, noise 0"
   ]
  },
  {
   "cell_type": "code",
   "execution_count": 5,
   "metadata": {},
   "outputs": [],
   "source": [
    "def rerun(unique_tournament_identifier_start, player_list, game_ending_probs, noise, tournament_rep, player_tournament_set, title_of_plot_file, support_enumeration):\n",
    "    \"\"\"\n",
    "    A function used to rerun a particular player_tournament_set changing one variable (for example, removing the stochastic player, repeating the tournament more times etc.) where:\n",
    "\n",
    "    'unique_tournament_identifier_start' is the experiment_number from the database;\n",
    "    \n",
    "    'player_list' is a list of the specific strategies (including axl.Defector()) who will compete in the tournaments;\n",
    "    \n",
    "    'game_ending_probs' is a list of the probabilities of the game finishing after any turn used in the original experiment;\n",
    "\n",
    "    'noise' is a numeric variable between 0 and 1 stating how much noise should be included (given to 1dp as in the original experiment); \n",
    "    'tournament_rep' is a numeric variable stating how many times each tournament should be repeated;\n",
    "\n",
    "    'player_tournament_set' is the numeric variable which represented this particular group of players in the original experiment;\n",
    "\n",
    "    'title_of_plot_file.extension' is a string containing the file name which the plot should be saved under; and\n",
    "\n",
    "    'support_enumeration' is a boolean variable stating whehter the support enumeration algorithm should be used or not\n",
    "\n",
    "    A plot of the least & greatest probabilities is saved in the same folder as the equivalent plot.\n",
    "    \"\"\"\n",
    "    axl.seed(unique_tournament_identifier_start)\n",
    "    least_prob_of_defection = []\n",
    "    greatest_prob_of_defection = []\n",
    "    num_of_players = len(player_list)\n",
    "    for probability in game_ending_probs:\n",
    "        tournament_run = get_game(\n",
    "            tournament_rep=tournament_rep,\n",
    "            player_list=player_list,\n",
    "            prob_of_game_ending=probability,\n",
    "            noise=noise,\n",
    "            )\n",
    "        defection_probs = get_prob_of_defection(\n",
    "            payoff_matrix=tournament_run[\"payoff matrix obtained\"],\n",
    "            support_enumeration=support_enumeration,\n",
    "            )\n",
    "\n",
    "        least_prob_of_defection.append(defection_probs[\"least prob of defect\"])\n",
    "        greatest_prob_of_defection.append(defection_probs[\"greatest prob of defect\"])\n",
    "\n",
    "        unique_tournament_identifier_start += 1\n",
    "        axl.seed(unique_tournament_identifier_start)\n",
    "\n",
    "    p = Path(\n",
    "            \"../../images/folk_thm/single_game/\"\n",
    "            + str(num_of_players)\n",
    "            + \"/\"\n",
    "            + str(player_tournament_set)\n",
    "            + \"/\"\n",
    "            + str(noise)\n",
    "            + \"/\"\n",
    "        )\n",
    "    \n",
    "    #plot_path = p / title_of_plot_file\n",
    "    plot_path = Path(\"../../../\") / title_of_plot_file\n",
    "    graph = plt.figure()\n",
    "    axes = graph.add_subplot(1, 1, 1)\n",
    "    axes.set_xlabel(\"$p =$ the probability of the game ending\")\n",
    "    axes.set_ylabel(\"probability of defection in equilibria\")\n",
    "\n",
    "    x_values = [\n",
    "        game_ending_probs,\n",
    "        game_ending_probs,\n",
    "        ]\n",
    "    y_data = [\n",
    "        least_prob_of_defection,\n",
    "        greatest_prob_of_defection,\n",
    "        ]\n",
    "    colours = [\"r\", \"y\"]\n",
    "    linestyles = [\"-\", \"--\"]\n",
    "    label_list = [\"least prob of defection\", \"greatest prob of defection\"]\n",
    "    for xvalue, data, colour, linestyle, label in zip(\n",
    "            x_values, y_data, colours, linestyles, label_list\n",
    "        ):\n",
    "            axes.plot(xvalue, data, color=colour, linestyle=linestyle, label=label)\n",
    "    axes.legend()\n",
    "    graph.savefig(str(plot_path))\n",
    "    plt.close()"
   ]
  },
  {
   "cell_type": "code",
   "execution_count": 6,
   "metadata": {},
   "outputs": [],
   "source": [
    "player_list = [axl.MEM2(), axl.Defector()]"
   ]
  },
  {
   "cell_type": "code",
   "execution_count": 28,
   "metadata": {},
   "outputs": [],
   "source": [
    "rerun_2_7_0 = rerun(unique_tournament_identifier_start=7700, player_list=player_list, game_ending_probs=game_ending_probabilities, noise=0.0, tournament_rep=550, player_tournament_set=7, title_of_plot_file=\"main_rerun_tourn_rep_550.pdf\", support_enumeration=True)"
   ]
  },
  {
   "cell_type": "code",
   "execution_count": 33,
   "metadata": {},
   "outputs": [],
   "source": [
    "player_list2 = [axl.Ripoff(), axl.Defector()]\n",
    "rerun_2_14_0 = rerun(unique_tournament_identifier_start=15400, player_list=player_list2, game_ending_probs=game_ending_probabilities, noise=0.0, tournament_rep=1000, player_tournament_set=14, title_of_plot_file=\"main_rerun_tourn_rep_1000.pdf\", support_enumeration=True)"
   ]
  },
  {
   "cell_type": "code",
   "execution_count": 34,
   "metadata": {},
   "outputs": [],
   "source": [
    "player_list3 = [axl.CollectiveStrategy(), axl.Defector()]\n",
    "rerun_2_15_0 = rerun(unique_tournament_identifier_start=16500, player_list=player_list3, game_ending_probs=game_ending_probabilities, noise=0.0, tournament_rep=550, player_tournament_set=15, title_of_plot_file=\"main_rerun_tourn_rep_550.pdf\", support_enumeration=True)"
   ]
  },
  {
   "cell_type": "code",
   "execution_count": 7,
   "metadata": {},
   "outputs": [],
   "source": [
    "player_list4 = [axl.Handshake(), axl.Defector()]\n",
    "rerun_2_22_0 = rerun(unique_tournament_identifier_start=24200, player_list=player_list4, game_ending_probs=game_ending_probabilities, noise=0.0, tournament_rep=700, player_tournament_set=22, title_of_plot_file=\"main_rerun_tourn_rep_700.pdf\", support_enumeration=True)"
   ]
  },
  {
   "cell_type": "code",
   "execution_count": 11,
   "metadata": {},
   "outputs": [],
   "source": [
    "player_list5 = [axl.Fortress3(), axl.Defector()]\n",
    "rerun_2_24_0 = rerun(unique_tournament_identifier_start=26400, player_list=player_list5, game_ending_probs=game_ending_probabilities, noise=0.0, tournament_rep=1500, player_tournament_set=24, title_of_plot_file=\"main_rerun_tourn_rep_1500.pdf\", support_enumeration=True)"
   ]
  },
  {
   "cell_type": "code",
   "execution_count": null,
   "metadata": {},
   "outputs": [],
   "source": []
  }
 ]
}