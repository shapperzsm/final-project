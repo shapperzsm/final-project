{
 "nbformat": 4,
 "nbformat_minor": 2,
 "metadata": {
  "language_info": {
   "name": "python",
   "codemirror_mode": {
    "name": "ipython",
    "version": 3
   },
   "version": "3.7.3-final"
  },
  "orig_nbformat": 2,
  "file_extension": ".py",
  "mimetype": "text/x-python",
  "name": "python",
  "npconvert_exporter": "python",
  "pygments_lexer": "ipython3",
  "version": 3,
  "kernelspec": {
   "name": "python37364bit891e6b1a097d48fc85f9a7aa3b434b20",
   "display_name": "Python 3.7.3 64-bit"
  }
 },
 "cells": [
  {
   "cell_type": "code",
   "execution_count": 1,
   "metadata": {},
   "outputs": [],
   "source": [
    "from pathlib import *\n",
    "import numpy as np\n",
    "import sqlalchemy as sa\n",
    "import pandas as pd\n",
    "import csv\n",
    "\n",
    "database_management_sys = sa.create_engine(\"sqlite:///../database-code/data/se/main.db\")\n",
    "connect_dbms_to_db = database_management_sys.connect()\n",
    "data = pd.read_sql(\"folk_theorem_experiment\", connect_dbms_to_db)"
   ]
  },
  {
   "cell_type": "code",
   "execution_count": 2,
   "metadata": {},
   "outputs": [
    {
     "data": {
      "text/plain": "159"
     },
     "execution_count": 2,
     "metadata": {},
     "output_type": "execute_result"
    }
   ],
   "source": [
    "max_tournament_player_set = \"\"\"\n",
    "    SELECT MAX(tournament_player_set) FROM folk_theorem_experiment\n",
    "\"\"\"\n",
    "max_num_of_player_sets = pd.read_sql(max_tournament_player_set, connect_dbms_to_db)\n",
    "maximum_player_set = max_num_of_player_sets[\"MAX(tournament_player_set)\"][0]\n",
    "maximum_player_set"
   ]
  },
  {
   "cell_type": "code",
   "execution_count": 9,
   "metadata": {},
   "outputs": [],
   "source": [
    "degenerate_tournament_set_collection = \"\"\"\n",
    "    SELECT tournament_player_set, noise FROM folk_theorem_experiment\n",
    "    WHERE warning_message <> 'None' \n",
    "\"\"\"\n",
    "\n",
    "could_be_degenerate_tournaments = pd.DataFrame(connect_dbms_to_db.execute(degenerate_tournament_set_collection).fetchall()).drop_duplicates()"
   ]
  },
  {
   "cell_type": "code",
   "execution_count": 10,
   "metadata": {},
   "outputs": [
    {
     "data": {
      "text/html": "<div>\n<style scoped>\n    .dataframe tbody tr th:only-of-type {\n        vertical-align: middle;\n    }\n\n    .dataframe tbody tr th {\n        vertical-align: top;\n    }\n\n    .dataframe thead th {\n        text-align: right;\n    }\n</style>\n<table border=\"1\" class=\"dataframe\">\n  <thead>\n    <tr style=\"text-align: right;\">\n      <th></th>\n      <th>0</th>\n      <th>1</th>\n    </tr>\n  </thead>\n  <tbody>\n    <tr>\n      <th>0</th>\n      <td>3</td>\n      <td>0.0</td>\n    </tr>\n    <tr>\n      <th>200</th>\n      <td>14</td>\n      <td>0.0</td>\n    </tr>\n    <tr>\n      <th>202</th>\n      <td>14</td>\n      <td>1.0</td>\n    </tr>\n    <tr>\n      <th>204</th>\n      <td>20</td>\n      <td>0.0</td>\n    </tr>\n    <tr>\n      <th>404</th>\n      <td>23</td>\n      <td>0.0</td>\n    </tr>\n    <tr>\n      <th>604</th>\n      <td>24</td>\n      <td>0.0</td>\n    </tr>\n    <tr>\n      <th>612</th>\n      <td>24</td>\n      <td>1.0</td>\n    </tr>\n    <tr>\n      <th>812</th>\n      <td>25</td>\n      <td>0.0</td>\n    </tr>\n    <tr>\n      <th>833</th>\n      <td>25</td>\n      <td>1.0</td>\n    </tr>\n    <tr>\n      <th>836</th>\n      <td>26</td>\n      <td>0.0</td>\n    </tr>\n    <tr>\n      <th>899</th>\n      <td>27</td>\n      <td>0.0</td>\n    </tr>\n    <tr>\n      <th>914</th>\n      <td>27</td>\n      <td>0.1</td>\n    </tr>\n    <tr>\n      <th>917</th>\n      <td>27</td>\n      <td>1.0</td>\n    </tr>\n    <tr>\n      <th>932</th>\n      <td>28</td>\n      <td>0.0</td>\n    </tr>\n    <tr>\n      <th>962</th>\n      <td>28</td>\n      <td>0.8</td>\n    </tr>\n    <tr>\n      <th>965</th>\n      <td>29</td>\n      <td>0.0</td>\n    </tr>\n    <tr>\n      <th>1175</th>\n      <td>31</td>\n      <td>0.0</td>\n    </tr>\n    <tr>\n      <th>1322</th>\n      <td>32</td>\n      <td>0.0</td>\n    </tr>\n    <tr>\n      <th>1331</th>\n      <td>33</td>\n      <td>0.5</td>\n    </tr>\n    <tr>\n      <th>1334</th>\n      <td>35</td>\n      <td>0.0</td>\n    </tr>\n    <tr>\n      <th>1346</th>\n      <td>35</td>\n      <td>1.0</td>\n    </tr>\n    <tr>\n      <th>1349</th>\n      <td>36</td>\n      <td>0.0</td>\n    </tr>\n    <tr>\n      <th>1361</th>\n      <td>37</td>\n      <td>0.0</td>\n    </tr>\n    <tr>\n      <th>1379</th>\n      <td>37</td>\n      <td>0.1</td>\n    </tr>\n    <tr>\n      <th>1385</th>\n      <td>37</td>\n      <td>1.0</td>\n    </tr>\n    <tr>\n      <th>1685</th>\n      <td>38</td>\n      <td>0.0</td>\n    </tr>\n    <tr>\n      <th>1703</th>\n      <td>38</td>\n      <td>1.0</td>\n    </tr>\n    <tr>\n      <th>1709</th>\n      <td>39</td>\n      <td>0.0</td>\n    </tr>\n    <tr>\n      <th>1742</th>\n      <td>39</td>\n      <td>1.0</td>\n    </tr>\n    <tr>\n      <th>1745</th>\n      <td>40</td>\n      <td>0.0</td>\n    </tr>\n    <tr>\n      <th>...</th>\n      <td>...</td>\n      <td>...</td>\n    </tr>\n    <tr>\n      <th>28524</th>\n      <td>152</td>\n      <td>0.1</td>\n    </tr>\n    <tr>\n      <th>28572</th>\n      <td>152</td>\n      <td>0.2</td>\n    </tr>\n    <tr>\n      <th>28588</th>\n      <td>152</td>\n      <td>0.5</td>\n    </tr>\n    <tr>\n      <th>28596</th>\n      <td>152</td>\n      <td>1.0</td>\n    </tr>\n    <tr>\n      <th>28700</th>\n      <td>153</td>\n      <td>0.0</td>\n    </tr>\n    <tr>\n      <th>29300</th>\n      <td>153</td>\n      <td>0.1</td>\n    </tr>\n    <tr>\n      <th>29340</th>\n      <td>153</td>\n      <td>1.0</td>\n    </tr>\n    <tr>\n      <th>29500</th>\n      <td>154</td>\n      <td>0.0</td>\n    </tr>\n    <tr>\n      <th>29948</th>\n      <td>154</td>\n      <td>0.1</td>\n    </tr>\n    <tr>\n      <th>29980</th>\n      <td>154</td>\n      <td>0.9</td>\n    </tr>\n    <tr>\n      <th>29988</th>\n      <td>154</td>\n      <td>1.0</td>\n    </tr>\n    <tr>\n      <th>30036</th>\n      <td>155</td>\n      <td>0.0</td>\n    </tr>\n    <tr>\n      <th>30236</th>\n      <td>155</td>\n      <td>0.1</td>\n    </tr>\n    <tr>\n      <th>30332</th>\n      <td>155</td>\n      <td>1.0</td>\n    </tr>\n    <tr>\n      <th>30460</th>\n      <td>156</td>\n      <td>0.0</td>\n    </tr>\n    <tr>\n      <th>31108</th>\n      <td>156</td>\n      <td>0.1</td>\n    </tr>\n    <tr>\n      <th>31164</th>\n      <td>156</td>\n      <td>0.2</td>\n    </tr>\n    <tr>\n      <th>31180</th>\n      <td>156</td>\n      <td>0.9</td>\n    </tr>\n    <tr>\n      <th>31188</th>\n      <td>156</td>\n      <td>1.0</td>\n    </tr>\n    <tr>\n      <th>31364</th>\n      <td>157</td>\n      <td>0.0</td>\n    </tr>\n    <tr>\n      <th>31628</th>\n      <td>157</td>\n      <td>0.1</td>\n    </tr>\n    <tr>\n      <th>31652</th>\n      <td>157</td>\n      <td>0.4</td>\n    </tr>\n    <tr>\n      <th>31660</th>\n      <td>157</td>\n      <td>0.7</td>\n    </tr>\n    <tr>\n      <th>31668</th>\n      <td>157</td>\n      <td>1.0</td>\n    </tr>\n    <tr>\n      <th>31676</th>\n      <td>158</td>\n      <td>0.0</td>\n    </tr>\n    <tr>\n      <th>31756</th>\n      <td>158</td>\n      <td>0.1</td>\n    </tr>\n    <tr>\n      <th>31764</th>\n      <td>158</td>\n      <td>0.2</td>\n    </tr>\n    <tr>\n      <th>31772</th>\n      <td>158</td>\n      <td>1.0</td>\n    </tr>\n    <tr>\n      <th>31940</th>\n      <td>159</td>\n      <td>0.0</td>\n    </tr>\n    <tr>\n      <th>32508</th>\n      <td>159</td>\n      <td>0.1</td>\n    </tr>\n  </tbody>\n</table>\n<p>372 rows × 2 columns</p>\n</div>",
      "text/plain": "         0    1\n0        3  0.0\n200     14  0.0\n202     14  1.0\n204     20  0.0\n404     23  0.0\n604     24  0.0\n612     24  1.0\n812     25  0.0\n833     25  1.0\n836     26  0.0\n899     27  0.0\n914     27  0.1\n917     27  1.0\n932     28  0.0\n962     28  0.8\n965     29  0.0\n1175    31  0.0\n1322    32  0.0\n1331    33  0.5\n1334    35  0.0\n1346    35  1.0\n1349    36  0.0\n1361    37  0.0\n1379    37  0.1\n1385    37  1.0\n1685    38  0.0\n1703    38  1.0\n1709    39  0.0\n1742    39  1.0\n1745    40  0.0\n...    ...  ...\n28524  152  0.1\n28572  152  0.2\n28588  152  0.5\n28596  152  1.0\n28700  153  0.0\n29300  153  0.1\n29340  153  1.0\n29500  154  0.0\n29948  154  0.1\n29980  154  0.9\n29988  154  1.0\n30036  155  0.0\n30236  155  0.1\n30332  155  1.0\n30460  156  0.0\n31108  156  0.1\n31164  156  0.2\n31180  156  0.9\n31188  156  1.0\n31364  157  0.0\n31628  157  0.1\n31652  157  0.4\n31660  157  0.7\n31668  157  1.0\n31676  158  0.0\n31756  158  0.1\n31764  158  0.2\n31772  158  1.0\n31940  159  0.0\n32508  159  0.1\n\n[372 rows x 2 columns]"
     },
     "execution_count": 10,
     "metadata": {},
     "output_type": "execute_result"
    }
   ],
   "source": [
    "could_be_degenerate_tournaments"
   ]
  },
  {
   "cell_type": "code",
   "execution_count": null,
   "metadata": {},
   "outputs": [],
   "source": []
  }
 ]
}