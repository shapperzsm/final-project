{
 "nbformat": 4,
 "nbformat_minor": 2,
 "metadata": {
  "language_info": {
   "name": "python",
   "codemirror_mode": {
    "name": "ipython",
    "version": 3
   },
   "version": "3.7.3"
  },
  "orig_nbformat": 2,
  "file_extension": ".py",
  "mimetype": "text/x-python",
  "name": "python",
  "npconvert_exporter": "python",
  "pygments_lexer": "ipython3",
  "version": 3
 },
 "cells": [
  {
   "cell_type": "code",
   "execution_count": 5,
   "metadata": {},
   "outputs": [],
   "source": [
    "import sqlalchemy as sa\n",
    "import pandas as pd\n"
   ]
  },
  {
   "cell_type": "code",
   "execution_count": 3,
   "metadata": {},
   "outputs": [],
   "source": [
    "se_database_management_sys = sa.create_engine('sqlite:///../../../../Desktop/rerun-data-no-long-run/se/main.db')\n",
    "se_connect_dbms_to_db = se_database_management_sys.connect()\n",
    "\n",
    "ve_database_management_sys = sa.create_engine('sqlite:///../../../../Desktop/rerun-data-no-long-run/ve/main.db')\n",
    "ve_connect_dbms_to_db = ve_database_management_sys.connect()"
   ]
  },
  {
   "cell_type": "code",
   "execution_count": 6,
   "metadata": {},
   "outputs": [
    {
     "data": {
      "text/plain": "['experiment_number',\n 'number_of_players',\n 'tournament_player_set',\n 'player_strategy_name',\n 'is_long_run_time',\n 'is_stochastic',\n 'memory_depth_of_strategy',\n 'prob_of_game_ending',\n 'payoff_matrix',\n 'num_of_repetitions',\n 'num_of_equilibria',\n 'nash_equilibria',\n 'least_prob_of_defection',\n 'greatest_prob_of_defection',\n 'noise',\n 'warning_message']"
     },
     "execution_count": 6,
     "metadata": {},
     "output_type": "execute_result"
    }
   ],
   "source": [
    "table_headings = pd.read_sql(\"folk_theorem_experiment\", se_connect_dbms_to_db).columns.tolist()\n",
    "table_headings\n"
   ]
  },
  {
   "cell_type": "code",
   "execution_count": 7,
   "metadata": {},
   "outputs": [],
   "source": [
    "max_tournament_player_set = \"\"\"\n",
    "    SELECT MAX(tournament_player_set) FROM folk_theorem_experiment\n",
    "\"\"\""
   ]
  },
  {
   "cell_type": "code",
   "execution_count": 8,
   "metadata": {},
   "outputs": [
    {
     "data": {
      "text/plain": "96"
     },
     "execution_count": 8,
     "metadata": {},
     "output_type": "execute_result"
    }
   ],
   "source": [
    "se_max_num_of_player_sets = pd.read_sql(max_tournament_player_set, se_connect_dbms_to_db)\n",
    "se_maximum_player_set = se_max_num_of_player_sets[\"MAX(tournament_player_set)\"][0]\n",
    "\n",
    "ve_max_num_of_player_sets = pd.read_sql(max_tournament_player_set, ve_connect_dbms_to_db)\n",
    "ve_maximum_player_set = ve_max_num_of_player_sets[\"MAX(tournament_player_set)\"][0]\n",
    "\n",
    "max_set_number = min(se_maximum_player_set, ve_maximum_player_set)\n",
    "max_set_number"
   ]
  },
  {
   "cell_type": "code",
   "execution_count": 12,
   "metadata": {},
   "outputs": [],
   "source": [
    "player_set_collection = \"\"\"\n",
    "    SELECT num_of_equilibria, nash_equilibria, least_prob_of_defection, greatest_prob_of_defection, warning_message \n",
    "    FROM folk_theorem_experiment\n",
    "    WHERE tournament_player_set = ?\n",
    "\"\"\" "
   ]
  },
  {
   "cell_type": "code",
   "execution_count": 22,
   "metadata": {},
   "outputs": [
    {
     "ename": "SyntaxError",
     "evalue": "invalid syntax (<ipython-input-22-a09c452259e3>, line 4)",
     "output_type": "error",
     "traceback": [
      "\u001b[1;36m  File \u001b[1;32m\"<ipython-input-22-a09c452259e3>\"\u001b[1;36m, line \u001b[1;32m4\u001b[0m\n\u001b[1;33m    se_data = pd.DataFrame(se_relevant_data, table_headings[[10:13],[15]])\u001b[0m\n\u001b[1;37m                                                               ^\u001b[0m\n\u001b[1;31mSyntaxError\u001b[0m\u001b[1;31m:\u001b[0m invalid syntax\n"
     ]
    }
   ],
   "source": [
    "for num_of_sets in range(1): #range(max_set_number):\n",
    "    se_relevant_data = se_connect_dbms_to_db.execute(player_set_collection, num_of_sets)\n",
    "    ve_relevant_data = ve_connect_dbms_to_db.execute(player_set_collection, num_of_sets)\n",
    "    se_data = pd.DataFrame(se_relevant_data, table_headings[[10:13],[15]])\n",
    "    ve_data = pd.DataFrame(ve_relevant_data, table_headings[[10:13], [15]])\n",
    "\n",
    "    differences = se_data[se_data != ve_data]\n",
    "differences"
   ]
  },
  {
   "cell_type": "code",
   "execution_count": null,
   "metadata": {},
   "outputs": [],
   "source": []
  }
 ]
}