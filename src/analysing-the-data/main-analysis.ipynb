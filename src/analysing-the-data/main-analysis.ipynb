{
 "nbformat": 4,
 "nbformat_minor": 2,
 "metadata": {
  "language_info": {
   "name": "python",
   "codemirror_mode": {
    "name": "ipython",
    "version": 3
   },
   "version": "3.7.3-final"
  },
  "orig_nbformat": 2,
  "file_extension": ".py",
  "mimetype": "text/x-python",
  "name": "python",
  "npconvert_exporter": "python",
  "pygments_lexer": "ipython3",
  "version": 3,
  "kernelspec": {
   "name": "python37364bit891e6b1a097d48fc85f9a7aa3b434b20",
   "display_name": "Python 3.7.3 64-bit"
  }
 },
 "cells": [
  {
   "cell_type": "markdown",
   "execution_count": null,
   "metadata": {},
   "outputs": [],
   "source": [
    "# Main Analysis"
   ]
  },
  {
   "cell_type": "code",
   "execution_count": null,
   "metadata": {},
   "outputs": [],
   "source": [
    "from pathlib import *\n",
    "import csv\n",
    "import sqlalchemy as sa\n",
    "import numpy as np\n",
    "import pandas as pd\n",
    "import axelrod as axl\n",
    "import matplotlib.pyplot as plt\n",
    "%matplotlib inline"
   ]
  },
  {
   "cell_type": "markdown",
   "execution_count": null,
   "metadata": {},
   "outputs": [],
   "source": [
    "Size of Database as of writing: "
   ]
  },
  {
   "cell_type": "code",
   "execution_count": null,
   "metadata": {},
   "outputs": [],
   "source": [
    "path_for_images = Path(\"../../images/folk_thm/main_analysis/\")\n",
    "path_for_images.mkdir(parents=True, exist_ok=True)\n",
    "\n",
    "database_management_sys = sa.create_engine(\"sqlite:///../database-code/data/se/main.db\")\n",
    "connect_dbms_to_db = database_management_sys.connect()\n",
    "se_folk_thm_data = pd.read_sql(\"folk_theorem_experiment\", connect_dbms_to_db)\n",
    "len(se_folk_thm_data), max(se_folk_thm_data[\"tournament_player_set\"])"
   ]
  },
  {
   "cell_type": "markdown",
   "execution_count": null,
   "metadata": {},
   "outputs": [],
   "source": [
    "## p-Thresholds"
   ]
  },
  {
   "cell_type": "markdown",
   "execution_count": null,
   "metadata": {},
   "outputs": [],
   "source": [
    "Looking at the probabilities of the game ending for all the games (ignoring whether the games are degenerate or not)"
   ]
  },
  {
   "cell_type": "code",
   "execution_count": null,
   "metadata": {},
   "outputs": [],
   "source": [
    "p_thresh_data = pd.read_csv(\"..\\database-code\\data\\prob_end_threshold\\main.csv\")\n",
    "p_thresh_data.head(), len(p_thresh_data)"
   ]
  },
  {
   "cell_type": "code",
   "execution_count": null,
   "metadata": {},
   "outputs": [],
   "source": [
    "min_thresh_plot_path = path_for_images / \"min_p_thresh.pdf\"\n",
    "\n",
    "min_thresh_plot = plt.figure()\n",
    "axes = min_thresh_plot.add_subplot(1, 1, 1)\n",
    "axes.set_xlabel(\"Tournament Player Set\")\n",
    "axes.set_ylabel(\"$p$ - threshold\")\n",
    "axes.plot(p_thresh_data[\"tournament_player_set\"], p_thresh_data[\"min_p_threshold\"], \"x\")\n",
    "min_thresh_plot.savefig(str(min_thresh_plot_path))"
   ]
  },
  {
   "cell_type": "code",
   "execution_count": null,
   "metadata": {},
   "outputs": [],
   "source": [
    "max_thresh_plot_path = path_for_images / \"max_p_thresh.pdf\"\n",
    "\n",
    "max_thresh_plot = plt.figure()\n",
    "axes = max_thresh_plot.add_subplot(1, 1, 1)\n",
    "axes.set_xlabel(\"Tournament Player Set\")\n",
    "axes.set_ylabel(\"$p$ - threshold\")\n",
    "axes.plot(p_thresh_data[\"tournament_player_set\"], p_thresh_data[\"max_p_threshold\"], \"^\", color=\"green\")\n",
    "max_thresh_plot.savefig(str(max_thresh_plot_path))"
   ]
  },
  {
   "cell_type": "code",
   "execution_count": null,
   "metadata": {},
   "outputs": [],
   "source": [
    "mean_thresh_plot_path = path_for_images / \"mean_p_thresh.pdf\"\n",
    "\n",
    "mean_thresh_plot = plt.figure()\n",
    "axes = mean_thresh_plot.add_subplot(1, 1, 1)\n",
    "axes.set_xlabel(\"Tournament Player Set\")\n",
    "axes.set_ylabel(\"$p$ - threshold\")\n",
    "axes.plot(p_thresh_data[\"tournament_player_set\"], p_thresh_data[\"mean_p_threshold\"], \"*\", color=\"red\")\n",
    "mean_thresh_plot.savefig(str(mean_thresh_plot_path))"
   ]
  },
  {
   "cell_type": "code",
   "execution_count": null,
   "metadata": {},
   "outputs": [],
   "source": [
    "median_thresh_plot_path = path_for_images / \"median_p_thresh.pdf\"\n",
    "\n",
    "median_thresh_plot = plt.figure()\n",
    "axes = median_thresh_plot.add_subplot(1, 1, 1)\n",
    "axes.set_xlabel(\"Tournament Player Set\")\n",
    "axes.set_ylabel(\"$p$ - threshold\")\n",
    "axes.plot(p_thresh_data[\"tournament_player_set\"], p_thresh_data[\"median_p_threshold\"], \"+\", color=\"purple\")\n",
    "median_thresh_plot.savefig(str(median_thresh_plot_path))"
   ]
  },
  {
   "cell_type": "markdown",
   "execution_count": null,
   "metadata": {},
   "outputs": [],
   "source": [
    "Looking at the probabilities of the game ending for all the games which are definitely non-degenerate."
   ]
  },
  {
   "cell_type": "code",
   "execution_count": null,
   "metadata": {},
   "outputs": [],
   "source": [
    "p_thresh_data_no_degeneracy = pd.read_csv(\"..\\database-code\\data\\prob_end_threshold\\main-no-degeneracy.csv\")\n",
    "p_thresh_data_no_degeneracy.head()"
   ]
  },
  {
   "cell_type": "code",
   "execution_count": null,
   "metadata": {},
   "outputs": [],
   "source": [
    "non_degenerate_min_thresh_plot_path = path_for_images / \"non_degenerate_min_p_thresh.pdf\"\n",
    "\n",
    "non_degenerate_min_thresh_plot = plt.figure()\n",
    "axes = non_degenerate_min_thresh_plot.add_subplot(1, 1, 1)\n",
    "axes.set_xlabel(\"Tournament Player Set\")\n",
    "axes.set_ylabel(\"$p$ - threshold\")\n",
    "axes.plot(p_thresh_data_no_degeneracy[\"tournament_player_set\"], p_thresh_data_no_degeneracy[\"min_p_threshold\"], \"x\")\n",
    "non_degenerate_min_thresh_plot.savefig(str(non_degenerate_min_thresh_plot_path))"
   ]
  },
  {
   "cell_type": "code",
   "execution_count": null,
   "metadata": {},
   "outputs": [],
   "source": [
    "non_degenerate_max_thresh_plot_path = path_for_images / \"non_degenerate_max_p_thresh.pdf\"\n",
    "\n",
    "non_degenerate_max_thresh_plot = plt.figure()\n",
    "axes = non_degenerate_max_thresh_plot.add_subplot(1, 1, 1)\n",
    "axes.set_xlabel(\"Tournament Player Set\")\n",
    "axes.set_ylabel(\"$p$ - threshold\")\n",
    "axes.plot(p_thresh_data_no_degeneracy[\"tournament_player_set\"], p_thresh_data_no_degeneracy[\"max_p_threshold\"], \"^\", color=\"green\")\n",
    "non_degenerate_max_thresh_plot.savefig(str(non_degenerate_max_thresh_plot_path))"
   ]
  },
  {
   "cell_type": "code",
   "execution_count": null,
   "metadata": {},
   "outputs": [],
   "source": [
    "non_degenerate_mean_thresh_plot_path = path_for_images / \"non_degenerate_mean_p_thresh.pdf\"\n",
    "\n",
    "non_degenerate_mean_thresh_plot = plt.figure()\n",
    "axes = non_degenerate_mean_thresh_plot.add_subplot(1, 1, 1)\n",
    "axes.set_xlabel(\"Tournament Player Set\")\n",
    "axes.set_ylabel(\"$p$ - threshold\")\n",
    "axes.plot(p_thresh_data_no_degeneracy[\"tournament_player_set\"], p_thresh_data_no_degeneracy[\"mean_p_threshold\"], \"*\", color=\"red\")\n",
    "non_degenerate_mean_thresh_plot.savefig(str(non_degenerate_mean_thresh_plot_path))"
   ]
  },
  {
   "cell_type": "code",
   "execution_count": null,
   "metadata": {},
   "outputs": [],
   "source": [
    "non_degenerate_median_thresh_plot_path = path_for_images / \"non_degenerate_median_p_thresh.pdf\"\n",
    "\n",
    "non_degenerate_median_thresh_plot = plt.figure()\n",
    "axes = non_degenerate_median_thresh_plot.add_subplot(1, 1, 1)\n",
    "axes.set_xlabel(\"Tournament Player Set\")\n",
    "axes.set_ylabel(\"$p$ - threshold\")\n",
    "axes.plot(p_thresh_data_no_degeneracy[\"tournament_player_set\"], p_thresh_data_no_degeneracy[\"median_p_threshold\"], \"+\", color=\"purple\")\n",
    "non_degenerate_median_thresh_plot.savefig(str(non_degenerate_median_thresh_plot_path))"
   ]
  },
  {
   "cell_type": "markdown",
   "execution_count": null,
   "metadata": {},
   "outputs": [],
   "source": [
    "Here we will consider the mean(?) p-values only, with non_degenerate games."
   ]
  },
  {
   "cell_type": "markdown",
   "execution_count": null,
   "metadata": {},
   "outputs": [],
   "source": [
    "### Effects of different number of players"
   ]
  },
  {
   "cell_type": "code",
   "execution_count": null,
   "metadata": {},
   "outputs": [],
   "source": [
    "separated_player_dict = {}\n",
    "for player_number in p_thresh_data_no_degeneracy[\"number_of_players\"]:\n",
    "    separated_player_dict[str(player_number)] = p_thresh_data_no_degeneracy[p_thresh_data_no_degeneracy[\"number_of_players\"] == player_number]\n",
    "separated_player_dict.keys()   "
   ]
  },
  {
   "cell_type": "code",
   "execution_count": null,
   "metadata": {},
   "outputs": [],
   "source": [
    "for player_number in separated_player_dict.keys():\n",
    "    file_name = str(player_number) + \"player_mean_p_thresh.pdf\"\n",
    "    player_mean_thresh_plot_path = path_for_images / file_name\n",
    "    player_mean_thresh_plot = plt.figure()\n",
    "    axes = player_mean_thresh_plot.add_subplot(1, 1, 1)\n",
    "    axes.set_xlabel(\"Tournament Player Set\" + \", \" + str(player_number) + \" \" + \"players\")\n",
    "    axes.set_ylabel(\"$p$ - threshold\")\n",
    "    axes.plot(separated_player_dict[str(player_number)][\"tournament_player_set\"], separated_player_dict[str(player_number)][\"mean_p_threshold\"], \"x\")\n",
    "    player_mean_thresh_plot.savefig(str(player_mean_thresh_plot_path))\n",
    "print(\"finished!\")"
   ]
  },
  {
   "cell_type": "code",
   "execution_count": null,
   "metadata": {},
   "outputs": [],
   "source": [
    "player_thresh_data = [separated_player_dict[str(player_number)][\"mean_p_threshold\"] for player_number in range(2, 9)]\n",
    "for element in range(7):\n",
    "    player_thresh_data[element].index = range(len(player_thresh_data[element]))"
   ]
  },
  {
   "cell_type": "code",
   "execution_count": null,
   "metadata": {},
   "outputs": [],
   "source": [
    "player_mean_thresh_violin_path = path_for_images / \"player_mean_thresh_violinplot.pdf\"\n",
    "player_mean_thresh_violinplot = plt.figure()\n",
    "axes = player_mean_thresh_violinplot.add_subplot(1, 1, 1)\n",
    "axes.set_xlabel(\"Number of Players\")\n",
    "axes.set_xticks(np.arange(1, len(range(7))+1))\n",
    "axes.set_xticklabels(list(range(2, 9)))\n",
    "axes.set_ylabel(\"$p$ - threshold value\")\n",
    "axes.violinplot(player_thresh_data, showmeans=True, showmedians=True)\n",
    "player_mean_thresh_violinplot.savefig(str(player_mean_thresh_violin_path))"
   ]
  },
  {
   "cell_type": "markdown",
   "execution_count": null,
   "metadata": {},
   "outputs": [],
   "source": [
    "### Effects of Noise"
   ]
  },
  {
   "cell_type": "code",
   "execution_count": null,
   "metadata": {},
   "outputs": [],
   "source": [
    "separated_noise_dict = {}\n",
    "for amount_of_noise in p_thresh_data_no_degeneracy[\"noise\"]:\n",
    "    separated_noise_dict[str(amount_of_noise)] = p_thresh_data_no_degeneracy[p_thresh_data_no_degeneracy[\"noise\"] == amount_of_noise]\n",
    "separated_noise_dict.keys()"
   ]
  },
  {
   "cell_type": "code",
   "execution_count": null,
   "metadata": {},
   "outputs": [],
   "source": [
    "for amount_of_noise in separated_noise_dict.keys():\n",
    "    file_name = str(amount_of_noise) + \"noise_mean_p_thresh.pdf\"\n",
    "    noise_mean_thresh_plot_path = path_for_images / file_name\n",
    "    noise_mean_thresh_plot = plt.figure()\n",
    "    axes = noise_mean_thresh_plot.add_subplot(1, 1, 1)\n",
    "    axes.set_xlabel(\"Tournament Player Set\" + \", noise = \" + str(amount_of_noise))\n",
    "    axes.set_ylabel(\"$p$ - threshold\")\n",
    "    axes.plot(separated_noise_dict[str(amount_of_noise)][\"tournament_player_set\"], separated_noise_dict[str(amount_of_noise)][\"mean_p_threshold\"], \"^\", color = \"green\")\n",
    "    noise_mean_thresh_plot.savefig(str(noise_mean_thresh_plot_path))\n",
    "print(\"finished!\")"
   ]
  },
  {
   "cell_type": "code",
   "execution_count": null,
   "metadata": {},
   "outputs": [],
   "source": [
    "noise_thresh_data = [separated_noise_dict[str(amount_of_noise)][\"mean_p_threshold\"] for amount_of_noise in separated_noise_dict.keys()]\n",
    "for element in range(11):\n",
    "    noise_thresh_data[element].index = range(len(noise_thresh_data[element]))"
   ]
  },
  {
   "cell_type": "code",
   "execution_count": null,
   "metadata": {},
   "outputs": [],
   "source": [
    "noise_mean_thresh_violin_path = path_for_images / \"noise_mean_thresh_violinplot.pdf\"\n",
    "noise_mean_thresh_violinplot = plt.figure()\n",
    "axes = noise_mean_thresh_violinplot.add_subplot(1, 1, 1)\n",
    "axes.set_xlabel(\"Noise\")\n",
    "axes.set_xticks(np.arange(1, len(range(11))+1))\n",
    "axes.set_xticklabels(separated_noise_dict.keys())\n",
    "axes.set_ylabel(\"$p$ - threshold value\")\n",
    "axes.violinplot(noise_thresh_data, showmeans=True, showmedians=True)\n",
    "noise_mean_thresh_violinplot.savefig(str(noise_mean_thresh_violin_path))"
   ]
  },
  {
   "cell_type": "code",
   "execution_count": null,
   "metadata": {},
   "outputs": [],
   "source": []
  }
 ]
}