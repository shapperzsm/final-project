{
 "nbformat": 4,
 "nbformat_minor": 2,
 "metadata": {
  "language_info": {
   "name": "python",
   "codemirror_mode": {
    "name": "ipython",
    "version": 3
   },
   "version": "3.7.3-final"
  },
  "orig_nbformat": 2,
  "file_extension": ".py",
  "mimetype": "text/x-python",
  "name": "python",
  "npconvert_exporter": "python",
  "pygments_lexer": "ipython3",
  "version": 3,
  "kernelspec": {
   "name": "python37364bit891e6b1a097d48fc85f9a7aa3b434b20",
   "display_name": "Python 3.7.3 64-bit"
  }
 },
 "cells": [
  {
   "cell_type": "markdown",
   "execution_count": null,
   "metadata": {},
   "outputs": [],
   "source": [
    "# Effects of Stochastic Players"
   ]
  },
  {
   "cell_type": "code",
   "execution_count": 41,
   "metadata": {},
   "outputs": [],
   "source": [
    "from pathlib import *\n",
    "import experiment_functions as expfun\n",
    "import csv\n",
    "import nashpy as nash\n",
    "import sqlalchemy as sa\n",
    "import numpy as np\n",
    "import pandas as pd\n",
    "import axelrod as axl\n",
    "import random\n",
    "import warnings\n",
    "import matplotlib.pyplot as plt\n",
    "%matplotlib inline"
   ]
  },
  {
   "cell_type": "markdown",
   "execution_count": 2,
   "metadata": {},
   "outputs": [
    {
     "ename": "SyntaxError",
     "evalue": "invalid syntax (<ipython-input-2-aae9a87fa004>, line 1)",
     "output_type": "error",
     "traceback": [
      "\u001b[1;36m  File \u001b[1;32m\"<ipython-input-2-aae9a87fa004>\"\u001b[1;36m, line \u001b[1;32m1\u001b[0m\n\u001b[1;33m    Size of Database as of writing:\u001b[0m\n\u001b[1;37m          ^\u001b[0m\n\u001b[1;31mSyntaxError\u001b[0m\u001b[1;31m:\u001b[0m invalid syntax\n"
     ]
    }
   ],
   "source": [
    "Size of Database as of writing: "
   ]
  },
  {
   "cell_type": "code",
   "execution_count": 3,
   "metadata": {},
   "outputs": [
    {
     "data": {
      "text/plain": "(825700, 159)"
     },
     "execution_count": 3,
     "metadata": {},
     "output_type": "execute_result"
    }
   ],
   "source": [
    "path_for_images = Path(\"../../images/folk_thm/main_analysis/\")\n",
    "path_for_images.mkdir(parents=True, exist_ok=True)\n",
    "\n",
    "database_management_sys = sa.create_engine(\"sqlite:///../database-code/data/se/main.db\")\n",
    "connect_dbms_to_db = database_management_sys.connect()\n",
    "se_folk_thm_data = pd.read_sql(\"folk_theorem_experiment\", connect_dbms_to_db)\n",
    "len(se_folk_thm_data), max(se_folk_thm_data[\"tournament_player_set\"])"
   ]
  },
  {
   "cell_type": "code",
   "execution_count": 23,
   "metadata": {},
   "outputs": [
    {
     "data": {
      "text/plain": "120"
     },
     "execution_count": 23,
     "metadata": {},
     "output_type": "execute_result"
    }
   ],
   "source": [
    "tournaments_with_stochastic_players = \"\"\"\n",
    "    SELECT tournament_player_set FROM folk_theorem_experiment\n",
    "    WHERE is_stochastic = '1'\n",
    "\"\"\"\n",
    "\n",
    "stoch_player_data = connect_dbms_to_db.execute(tournaments_with_stochastic_players)\n",
    "tournament_set_with_stoch_player_data = list(pd.DataFrame(stoch_player_data.fetchall()).drop_duplicates()[0])\n",
    "len(tournament_set_with_stoch_player_data)"
   ]
  },
  {
   "cell_type": "code",
   "execution_count": 30,
   "metadata": {},
   "outputs": [
    {
     "data": {
      "text/plain": "[58, 111, 105, 39, 79]"
     },
     "execution_count": 30,
     "metadata": {},
     "output_type": "execute_result"
    }
   ],
   "source": [
    "random.seed(3)\n",
    "random.sample(tournament_set_with_stoch_player_data, 5)"
   ]
  },
  {
   "cell_type": "code",
   "execution_count": 39,
   "metadata": {},
   "outputs": [],
   "source": [
    "table_headings = pd.read_sql(\n",
    "    \"folk_theorem_experiment\", connect_dbms_to_db\n",
    ").columns.tolist()"
   ]
  },
  {
   "cell_type": "code",
   "execution_count": 40,
   "metadata": {},
   "outputs": [
    {
     "data": {
      "text/html": "<div>\n<style scoped>\n    .dataframe tbody tr th:only-of-type {\n        vertical-align: middle;\n    }\n\n    .dataframe tbody tr th {\n        vertical-align: top;\n    }\n\n    .dataframe thead th {\n        text-align: right;\n    }\n</style>\n<table border=\"1\" class=\"dataframe\">\n  <thead>\n    <tr style=\"text-align: right;\">\n      <th></th>\n      <th>experiment_number</th>\n      <th>number_of_players</th>\n      <th>tournament_player_set</th>\n      <th>player_strategy_name</th>\n      <th>is_long_run_time</th>\n      <th>is_stochastic</th>\n      <th>memory_depth_of_strategy</th>\n      <th>prob_of_game_ending</th>\n      <th>payoff_matrix</th>\n      <th>num_of_repetitions</th>\n      <th>num_of_equilibria</th>\n      <th>nash_equilibria</th>\n      <th>least_prob_of_defection</th>\n      <th>greatest_prob_of_defection</th>\n      <th>noise</th>\n      <th>warning_message</th>\n    </tr>\n  </thead>\n  <tbody>\n    <tr>\n      <th>0</th>\n      <td>63800</td>\n      <td>4</td>\n      <td>58</td>\n      <td>Worse and Worse</td>\n      <td>0</td>\n      <td>1</td>\n      <td>Inf</td>\n      <td>0.001000</td>\n      <td>2.3864605   2.40247148  2.09269614  0.3976859...</td>\n      <td>500</td>\n      <td>6</td>\n      <td>0.00000000e+00   1.00000000e+00   0.00000000...</td>\n      <td>0.0</td>\n      <td>1.0</td>\n      <td>0.0</td>\n      <td>[RuntimeWarning('\\nAn even number of (6) equil...</td>\n    </tr>\n    <tr>\n      <th>1</th>\n      <td>63800</td>\n      <td>4</td>\n      <td>58</td>\n      <td>Evolved ANN 5</td>\n      <td>0</td>\n      <td>0</td>\n      <td>Inf</td>\n      <td>0.001000</td>\n      <td>2.3864605   2.40247148  2.09269614  0.3976859...</td>\n      <td>500</td>\n      <td>6</td>\n      <td>0.00000000e+00   1.00000000e+00   0.00000000...</td>\n      <td>0.0</td>\n      <td>1.0</td>\n      <td>0.0</td>\n      <td>[RuntimeWarning('\\nAn even number of (6) equil...</td>\n    </tr>\n    <tr>\n      <th>2</th>\n      <td>63800</td>\n      <td>4</td>\n      <td>58</td>\n      <td>Tideman and Chieruzzi</td>\n      <td>0</td>\n      <td>0</td>\n      <td>Inf</td>\n      <td>0.001000</td>\n      <td>2.3864605   2.40247148  2.09269614  0.3976859...</td>\n      <td>500</td>\n      <td>6</td>\n      <td>0.00000000e+00   1.00000000e+00   0.00000000...</td>\n      <td>0.0</td>\n      <td>1.0</td>\n      <td>0.0</td>\n      <td>[RuntimeWarning('\\nAn even number of (6) equil...</td>\n    </tr>\n    <tr>\n      <th>3</th>\n      <td>63800</td>\n      <td>4</td>\n      <td>58</td>\n      <td>Defector</td>\n      <td>0</td>\n      <td>0</td>\n      <td>0</td>\n      <td>0.001000</td>\n      <td>2.3864605   2.40247148  2.09269614  0.3976859...</td>\n      <td>500</td>\n      <td>6</td>\n      <td>0.00000000e+00   1.00000000e+00   0.00000000...</td>\n      <td>0.0</td>\n      <td>1.0</td>\n      <td>0.0</td>\n      <td>[RuntimeWarning('\\nAn even number of (6) equil...</td>\n    </tr>\n    <tr>\n      <th>4</th>\n      <td>63801</td>\n      <td>4</td>\n      <td>58</td>\n      <td>Worse and Worse</td>\n      <td>0</td>\n      <td>1</td>\n      <td>Inf</td>\n      <td>0.011081</td>\n      <td>2.94802558  3.08805258  2.89551018  0.0463436...</td>\n      <td>500</td>\n      <td>2</td>\n      <td>0.  0.  1.  0.  0.  0.  1.  0.  0.  0.  0.  1...</td>\n      <td>0.0</td>\n      <td>1.0</td>\n      <td>0.0</td>\n      <td>[RuntimeWarning('\\nAn even number of (2) equil...</td>\n    </tr>\n  </tbody>\n</table>\n</div>",
      "text/plain": "   experiment_number  number_of_players  tournament_player_set  \\\n0              63800                  4                     58   \n1              63800                  4                     58   \n2              63800                  4                     58   \n3              63800                  4                     58   \n4              63801                  4                     58   \n\n    player_strategy_name  is_long_run_time  is_stochastic  \\\n0        Worse and Worse                 0              1   \n1          Evolved ANN 5                 0              0   \n2  Tideman and Chieruzzi                 0              0   \n3               Defector                 0              0   \n4        Worse and Worse                 0              1   \n\n  memory_depth_of_strategy  prob_of_game_ending  \\\n0                      Inf             0.001000   \n1                      Inf             0.001000   \n2                      Inf             0.001000   \n3                        0             0.001000   \n4                      Inf             0.011081   \n\n                                       payoff_matrix  num_of_repetitions  \\\n0   2.3864605   2.40247148  2.09269614  0.3976859...                 500   \n1   2.3864605   2.40247148  2.09269614  0.3976859...                 500   \n2   2.3864605   2.40247148  2.09269614  0.3976859...                 500   \n3   2.3864605   2.40247148  2.09269614  0.3976859...                 500   \n4   2.94802558  3.08805258  2.89551018  0.0463436...                 500   \n\n   num_of_equilibria                                    nash_equilibria  \\\n0                  6    0.00000000e+00   1.00000000e+00   0.00000000...   \n1                  6    0.00000000e+00   1.00000000e+00   0.00000000...   \n2                  6    0.00000000e+00   1.00000000e+00   0.00000000...   \n3                  6    0.00000000e+00   1.00000000e+00   0.00000000...   \n4                  2   0.  0.  1.  0.  0.  0.  1.  0.  0.  0.  0.  1...   \n\n   least_prob_of_defection  greatest_prob_of_defection  noise  \\\n0                      0.0                         1.0    0.0   \n1                      0.0                         1.0    0.0   \n2                      0.0                         1.0    0.0   \n3                      0.0                         1.0    0.0   \n4                      0.0                         1.0    0.0   \n\n                                     warning_message  \n0  [RuntimeWarning('\\nAn even number of (6) equil...  \n1  [RuntimeWarning('\\nAn even number of (6) equil...  \n2  [RuntimeWarning('\\nAn even number of (6) equil...  \n3  [RuntimeWarning('\\nAn even number of (6) equil...  \n4  [RuntimeWarning('\\nAn even number of (2) equil...  "
     },
     "execution_count": 40,
     "metadata": {},
     "output_type": "execute_result"
    }
   ],
   "source": [
    "stoch_player_tournament_info = \"\"\"\n",
    "    SELECT * from folk_theorem_experiment\n",
    "    WHERE tournament_player_set = ?\n",
    "\"\"\"\n",
    "\n",
    "tournament_info = connect_dbms_to_db.execute(stoch_player_tournament_info, 58)\n",
    "relevant_info = pd.DataFrame(tournament_info.fetchall(), columns=table_headings)\n",
    "relevant_info.head()"
   ]
  },
  {
   "cell_type": "code",
   "execution_count": null,
   "metadata": {},
   "outputs": [],
   "source": []
  }
 ]
}