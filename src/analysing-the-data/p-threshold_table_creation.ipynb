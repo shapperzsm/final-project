{
 "nbformat": 4,
 "nbformat_minor": 2,
 "metadata": {
  "language_info": {
   "name": "python",
   "codemirror_mode": {
    "name": "ipython",
    "version": 3
   },
   "version": "3.7.3-final"
  },
  "orig_nbformat": 2,
  "file_extension": ".py",
  "mimetype": "text/x-python",
  "name": "python",
  "npconvert_exporter": "python",
  "pygments_lexer": "ipython3",
  "version": 3,
  "kernelspec": {
   "name": "python37364bit891e6b1a097d48fc85f9a7aa3b434b20",
   "display_name": "Python 3.7.3 64-bit"
  }
 },
 "cells": [
  {
   "cell_type": "code",
   "execution_count": 9,
   "metadata": {},
   "outputs": [],
   "source": [
    "from pathlib import *\n",
    "import sqlalchemy as sa\n",
    "import pandas as pd\n",
    "\n",
    "database_management_sys = sa.create_engine(\"sqlite:///../database-code/data/se/main.db\")\n",
    "connect_dbms_to_db = database_management_sys.connect()"
   ]
  },
  {
   "cell_type": "code",
   "execution_count": 13,
   "metadata": {},
   "outputs": [
    {
     "data": {
      "text/html": "<div>\n<style scoped>\n    .dataframe tbody tr th:only-of-type {\n        vertical-align: middle;\n    }\n\n    .dataframe tbody tr th {\n        vertical-align: top;\n    }\n\n    .dataframe thead th {\n        text-align: right;\n    }\n</style>\n<table border=\"1\" class=\"dataframe\">\n  <thead>\n    <tr style=\"text-align: right;\">\n      <th></th>\n      <th>experiment_number</th>\n      <th>number_of_players</th>\n      <th>tournament_player_set</th>\n      <th>player_strategy_name</th>\n      <th>is_long_run_time</th>\n      <th>is_stochastic</th>\n      <th>memory_depth_of_strategy</th>\n      <th>prob_of_game_ending</th>\n      <th>payoff_matrix</th>\n      <th>num_of_repetitions</th>\n      <th>num_of_equilibria</th>\n      <th>nash_equilibria</th>\n      <th>least_prob_of_defection</th>\n      <th>greatest_prob_of_defection</th>\n      <th>noise</th>\n      <th>warning_message</th>\n    </tr>\n  </thead>\n  <tbody>\n    <tr>\n      <th>0</th>\n      <td>171600</td>\n      <td>8</td>\n      <td>156</td>\n      <td>Defector</td>\n      <td>0</td>\n      <td>0</td>\n      <td>0</td>\n      <td>0.001000</td>\n      <td>2.98713198  2.4970386   0.00926656  2.9868275...</td>\n      <td>500</td>\n      <td>6</td>\n      <td>0.00000000e+00   0.00000000e+00   1.00000000...</td>\n      <td>0.0</td>\n      <td>1.0</td>\n      <td>0.0</td>\n      <td>[RuntimeWarning('\\nAn even number of (6) equil...</td>\n    </tr>\n    <tr>\n      <th>1</th>\n      <td>171601</td>\n      <td>8</td>\n      <td>156</td>\n      <td>Defector</td>\n      <td>0</td>\n      <td>0</td>\n      <td>0</td>\n      <td>0.011081</td>\n      <td>2.90458327  2.52269817  0.04820977  2.9008351...</td>\n      <td>500</td>\n      <td>4</td>\n      <td>0.          0.          1.          0.       ...</td>\n      <td>0.0</td>\n      <td>1.0</td>\n      <td>0.0</td>\n      <td>[RuntimeWarning('\\nAn even number of (4) equil...</td>\n    </tr>\n    <tr>\n      <th>2</th>\n      <td>171602</td>\n      <td>8</td>\n      <td>156</td>\n      <td>Defector</td>\n      <td>0</td>\n      <td>0</td>\n      <td>0</td>\n      <td>0.021162</td>\n      <td>2.81805332  2.53305455  0.0910335   2.8001180...</td>\n      <td>500</td>\n      <td>6</td>\n      <td>0.00000000e+00   0.00000000e+00   1.00000000...</td>\n      <td>0.0</td>\n      <td>1.0</td>\n      <td>0.0</td>\n      <td>[RuntimeWarning('\\nAn even number of (6) equil...</td>\n    </tr>\n    <tr>\n      <th>3</th>\n      <td>171603</td>\n      <td>8</td>\n      <td>156</td>\n      <td>Defector</td>\n      <td>0</td>\n      <td>0</td>\n      <td>0</td>\n      <td>0.031242</td>\n      <td>2.78032603  2.54974768  0.10876013  2.7839448...</td>\n      <td>500</td>\n      <td>4</td>\n      <td>0.00000000e+00   0.00000000e+00   1.00000000...</td>\n      <td>0.0</td>\n      <td>1.0</td>\n      <td>0.0</td>\n      <td>[RuntimeWarning('\\nAn even number of (4) equil...</td>\n    </tr>\n    <tr>\n      <th>4</th>\n      <td>171604</td>\n      <td>8</td>\n      <td>156</td>\n      <td>Defector</td>\n      <td>0</td>\n      <td>0</td>\n      <td>0</td>\n      <td>0.041323</td>\n      <td>2.67889355  2.61037339  0.13824453  2.7450524...</td>\n      <td>500</td>\n      <td>4</td>\n      <td>0.00000000e+00   0.00000000e+00   1.00000000...</td>\n      <td>0.0</td>\n      <td>1.0</td>\n      <td>0.0</td>\n      <td>[RuntimeWarning('\\nAn even number of (4) equil...</td>\n    </tr>\n    <tr>\n      <th>...</th>\n      <td>...</td>\n      <td>...</td>\n      <td>...</td>\n      <td>...</td>\n      <td>...</td>\n      <td>...</td>\n      <td>...</td>\n      <td>...</td>\n      <td>...</td>\n      <td>...</td>\n      <td>...</td>\n      <td>...</td>\n      <td>...</td>\n      <td>...</td>\n      <td>...</td>\n      <td>...</td>\n    </tr>\n    <tr>\n      <th>95</th>\n      <td>171695</td>\n      <td>8</td>\n      <td>156</td>\n      <td>Defector</td>\n      <td>0</td>\n      <td>0</td>\n      <td>0</td>\n      <td>0.958677</td>\n      <td>1.03266667e+00   4.89200000e+00   9.77000000...</td>\n      <td>500</td>\n      <td>5</td>\n      <td>0.  0.  1.  0.  0.  0.  0.  0.  0.  0.  1.  0...</td>\n      <td>0.0</td>\n      <td>1.0</td>\n      <td>0.0</td>\n      <td>None</td>\n    </tr>\n    <tr>\n      <th>96</th>\n      <td>171696</td>\n      <td>8</td>\n      <td>156</td>\n      <td>Defector</td>\n      <td>0</td>\n      <td>0</td>\n      <td>0</td>\n      <td>0.968758</td>\n      <td>1.04466667  4.944       0.98366667  1.036    ...</td>\n      <td>500</td>\n      <td>4</td>\n      <td>0.  0.  0.  0.  0.  1.  0.  0.  0.  0.  0.  0...</td>\n      <td>0.0</td>\n      <td>1.0</td>\n      <td>0.0</td>\n      <td>[RuntimeWarning('\\nAn even number of (4) equil...</td>\n    </tr>\n    <tr>\n      <th>97</th>\n      <td>171697</td>\n      <td>8</td>\n      <td>156</td>\n      <td>Defector</td>\n      <td>0</td>\n      <td>0</td>\n      <td>0</td>\n      <td>0.978838</td>\n      <td>1.01        4.96        0.98133333  1.014    ...</td>\n      <td>500</td>\n      <td>9</td>\n      <td>0.  0.  1.  0.  0.  0.  0.  0.  0.  0.  1.  0...</td>\n      <td>0.0</td>\n      <td>1.0</td>\n      <td>0.0</td>\n      <td>None</td>\n    </tr>\n    <tr>\n      <th>98</th>\n      <td>171698</td>\n      <td>8</td>\n      <td>156</td>\n      <td>Defector</td>\n      <td>0</td>\n      <td>0</td>\n      <td>0</td>\n      <td>0.988919</td>\n      <td>1.01000000e+00   4.94000000e+00   9.95000000...</td>\n      <td>500</td>\n      <td>9</td>\n      <td>0.  0.  1.  0.  0.  0.  0.  0.  0.  0.  1.  0...</td>\n      <td>0.0</td>\n      <td>1.0</td>\n      <td>0.0</td>\n      <td>None</td>\n    </tr>\n    <tr>\n      <th>99</th>\n      <td>171699</td>\n      <td>8</td>\n      <td>156</td>\n      <td>Defector</td>\n      <td>0</td>\n      <td>0</td>\n      <td>0</td>\n      <td>0.999000</td>\n      <td>1.00200000e+00   4.99600000e+00   9.99000000...</td>\n      <td>500</td>\n      <td>9</td>\n      <td>0.  0.  1.  0.  0.  0.  0.  0.  0.  0.  1.  0...</td>\n      <td>0.0</td>\n      <td>1.0</td>\n      <td>0.0</td>\n      <td>None</td>\n    </tr>\n  </tbody>\n</table>\n<p>100 rows × 16 columns</p>\n</div>",
      "text/plain": "    experiment_number  number_of_players  tournament_player_set  \\\n0              171600                  8                    156   \n1              171601                  8                    156   \n2              171602                  8                    156   \n3              171603                  8                    156   \n4              171604                  8                    156   \n..                ...                ...                    ...   \n95             171695                  8                    156   \n96             171696                  8                    156   \n97             171697                  8                    156   \n98             171698                  8                    156   \n99             171699                  8                    156   \n\n   player_strategy_name  is_long_run_time  is_stochastic  \\\n0              Defector                 0              0   \n1              Defector                 0              0   \n2              Defector                 0              0   \n3              Defector                 0              0   \n4              Defector                 0              0   \n..                  ...               ...            ...   \n95             Defector                 0              0   \n96             Defector                 0              0   \n97             Defector                 0              0   \n98             Defector                 0              0   \n99             Defector                 0              0   \n\n   memory_depth_of_strategy  prob_of_game_ending  \\\n0                         0             0.001000   \n1                         0             0.011081   \n2                         0             0.021162   \n3                         0             0.031242   \n4                         0             0.041323   \n..                      ...                  ...   \n95                        0             0.958677   \n96                        0             0.968758   \n97                        0             0.978838   \n98                        0             0.988919   \n99                        0             0.999000   \n\n                                        payoff_matrix  num_of_repetitions  \\\n0    2.98713198  2.4970386   0.00926656  2.9868275...                 500   \n1    2.90458327  2.52269817  0.04820977  2.9008351...                 500   \n2    2.81805332  2.53305455  0.0910335   2.8001180...                 500   \n3    2.78032603  2.54974768  0.10876013  2.7839448...                 500   \n4    2.67889355  2.61037339  0.13824453  2.7450524...                 500   \n..                                                ...                 ...   \n95    1.03266667e+00   4.89200000e+00   9.77000000...                 500   \n96   1.04466667  4.944       0.98366667  1.036    ...                 500   \n97   1.01        4.96        0.98133333  1.014    ...                 500   \n98    1.01000000e+00   4.94000000e+00   9.95000000...                 500   \n99    1.00200000e+00   4.99600000e+00   9.99000000...                 500   \n\n    num_of_equilibria                                    nash_equilibria  \\\n0                   6    0.00000000e+00   0.00000000e+00   1.00000000...   \n1                   4   0.          0.          1.          0.       ...   \n2                   6    0.00000000e+00   0.00000000e+00   1.00000000...   \n3                   4    0.00000000e+00   0.00000000e+00   1.00000000...   \n4                   4    0.00000000e+00   0.00000000e+00   1.00000000...   \n..                ...                                                ...   \n95                  5   0.  0.  1.  0.  0.  0.  0.  0.  0.  0.  1.  0...   \n96                  4   0.  0.  0.  0.  0.  1.  0.  0.  0.  0.  0.  0...   \n97                  9   0.  0.  1.  0.  0.  0.  0.  0.  0.  0.  1.  0...   \n98                  9   0.  0.  1.  0.  0.  0.  0.  0.  0.  0.  1.  0...   \n99                  9   0.  0.  1.  0.  0.  0.  0.  0.  0.  0.  1.  0...   \n\n    least_prob_of_defection  greatest_prob_of_defection  noise  \\\n0                       0.0                         1.0    0.0   \n1                       0.0                         1.0    0.0   \n2                       0.0                         1.0    0.0   \n3                       0.0                         1.0    0.0   \n4                       0.0                         1.0    0.0   \n..                      ...                         ...    ...   \n95                      0.0                         1.0    0.0   \n96                      0.0                         1.0    0.0   \n97                      0.0                         1.0    0.0   \n98                      0.0                         1.0    0.0   \n99                      0.0                         1.0    0.0   \n\n                                      warning_message  \n0   [RuntimeWarning('\\nAn even number of (6) equil...  \n1   [RuntimeWarning('\\nAn even number of (4) equil...  \n2   [RuntimeWarning('\\nAn even number of (6) equil...  \n3   [RuntimeWarning('\\nAn even number of (4) equil...  \n4   [RuntimeWarning('\\nAn even number of (4) equil...  \n..                                                ...  \n95                                               None  \n96  [RuntimeWarning('\\nAn even number of (4) equil...  \n97                                               None  \n98                                               None  \n99                                               None  \n\n[100 rows x 16 columns]"
     },
     "execution_count": 13,
     "metadata": {},
     "output_type": "execute_result"
    }
   ],
   "source": [
    "trial_tournament_set = \"\"\"\n",
    "    SELECT * FROM folk_theorem_experiment\n",
    "    WHERE tournament_player_set = '156'\n",
    "    AND noise = '0.0'\n",
    "    AND player_strategy_name = 'Defector'\n",
    "\"\"\"\n",
    "trial_data = pd.read_sql(trial_tournament_set, connect_dbms_to_db)\n",
    "trial_data"
   ]
  },
  {
   "cell_type": "code",
   "execution_count": 4,
   "metadata": {},
   "outputs": [],
   "source": [
    "def find_min_p_thresh(tournament_set):\n",
    "    \"\"\"\n",
    "    A function to find the minimum p-threshold from the database, where:\n",
    "    \n",
    "        \"tournament_set\" is a pandas dataframe containing all the information from the database for one particular set of strategies at one particular noise level.\n",
    "    \"\"\"\n",
    "    defection_prob_at_smallest_prob_game_ending = tournament_set[\"least_prob_of_defection\"][0]\n",
    "    any_equal_prob = tournament_set[tournament_set[\"least_prob_of_defection\"] == defection_prob_at_smallest_prob_game_ending]\n",
    "    if len(tournament_set[\"least_prob_of_defection\"]) == len(any_equal_prob):\n",
    "        if defection_prob_at_smallest_prob_game_ending == 0:\n",
    "        # that is, if the least probability of defection is constant at 0 for all game ending probabilities.    \n",
    "            min_p_thresh = None\n",
    "        else:\n",
    "        # the least probability of defection is equal to some non-zero constant for all game ending probabilities.\n",
    "            min_p_thresh = min(tournament_set[\"prob_of_game_ending\"])\n",
    "    else:\n",
    "        prob_of_defection_is_non_zero = tournament_set[tournament_set[\"least_prob_of_defection\"] != 0]\n",
    "        min_p_thresh = min(prob_of_defection_is_non_zero[\"prob_of_game_ending\"])\n",
    "    return(min_p_thresh)"
   ]
  },
  {
   "cell_type": "code",
   "execution_count": 5,
   "metadata": {},
   "outputs": [],
   "source": [
    "def find_max_p_thresh(tournament_set):\n",
    "    \"\"\"\n",
    "    A function to find the maximum p-threshold from the database, where:\n",
    "        \"tournament_set\" is a pandas dataframe containing all the information from the database for one particular set of strategies at one particular noise level.\n",
    "    \"\"\"\n",
    "    defection_prob_at_smallest_prob_game_ending = tournament_set[\"least_prob_of_defection\"][0]\n",
    "    any_equal_prob = tournament_set[tournament_set[\"least_prob_of_defection\"] == defection_prob_at_smallest_prob_game_ending]\n",
    "    if len(tournament_set[\"least_prob_of_defection\"]) == len(any_equal_prob):\n",
    "        if defection_prob_at_smallest_prob_game_ending == 0:\n",
    "        # that is, if the least probability of defection is constant at 0 for all game ending probabilities.    \n",
    "            max_p_thresh = None\n",
    "        else:\n",
    "        # the least probability of defection is equal to some non-zero constant for all game ending probabilities.\n",
    "            max_p_thresh = max(tournament_set[\"prob_of_game_ending\"])\n",
    "    else:\n",
    "        prob_of_defection_is_zero = tournament_set[tournament_set[\"least_prob_of_defection\"] == 0]\n",
    "        prob_of_defection_is_non_zero = tournament_set[tournament_set[\"least_prob_of_defection\"] != 0]\n",
    "        max_zero_defection_game_ending = max(prob_of_defection_is_zero[\"prob_of_game_ending\"])\n",
    "        if len(prob_of_defection_is_non_zero[prob_of_defection_is_non_zero[\"prob_of_game_ending\"] > max_zero_defection_game_ending][\"prob_of_game_ending\"]) == 0:\n",
    "            max_p_thresh\n",
    "        else:    \n",
    "            max_p_thresh = min(prob_of_defection_is_non_zero[prob_of_defection_is_non_zero[\"prob_of_game_ending\"] > max_zero_defection_game_ending][\"prob_of_game_ending\"])\n",
    "    return(max_p_thresh)"
   ]
  },
  {
   "cell_type": "code",
   "execution_count": 6,
   "metadata": {},
   "outputs": [],
   "source": [
    "def find_mean_p_thresh(tournament_set, min_p_thresh, max_p_thresh):\n",
    "    \"\"\"\n",
    "    A function to find the mean p-threshold from the database, where:\n",
    "        \"tournament_set\" is a pandas dataframe containing all the information from the database for one particular set of strategies at one particular noise level;\n",
    "        \"min_p_thresh\" is a numeric variable between 0 and 1 indicating the minimum p-threshold; and\n",
    "        \"max_p_thresh\" is a numeric variable between 0 and 1 indicating the maximum p-threshold.\n",
    "    \"\"\"\n",
    "    if min_p_thresh == max_p_thresh:\n",
    "        mean_p_thresh = min_p_thresh\n",
    "    else:\n",
    "        prob_of_defection_is_non_zero = tournament_set[tournament_set[\"least_prob_of_defection\"] != 0]\n",
    "        non_zero_defection_prob_between_min_max = prob_of_defection_is_non_zero[(prob_of_defection_is_non_zero[\"prob_of_game_ending\"] >= min_p_thresh) & (prob_of_defection_is_non_zero[\"prob_of_game_ending\"] <= max_p_thresh)]\n",
    "        mean_p_thresh = non_zero_defection_prob_between_min_max[\"prob_of_game_ending\"].mean()\n",
    "    return(mean_p_thresh)"
   ]
  },
  {
   "cell_type": "code",
   "execution_count": 7,
   "metadata": {},
   "outputs": [],
   "source": [
    "def find_median_p_thresh(tournament_set, min_p_thresh, max_p_thresh):\n",
    "    \"\"\"\n",
    "    A function to find the median p_threshold from the database, where:\n",
    "        \"tournament_set\" is a pandas dataframe containing all the information from the database for one particular set of strategies at one particular noise level;\n",
    "        \"min_p_thresh\" is a numeric variable between 0 and 1 indicating the minimum p-threshold; and\n",
    "        \"max_p_thresh\" is a numeric variable between 0 and 1 indicating the maximum p-threshold.\n",
    "    \"\"\"\n",
    "    if min_p_thresh == max_p_thresh:\n",
    "        median_p_thresh = min_p_thresh\n",
    "    else:\n",
    "        prob_of_defection_is_non_zero = tournament_set[tournament_set[\"least_prob_of_defection\"] != 0]\n",
    "        non_zero_defection_prob_between_min_max = prob_of_defection_is_non_zero[(prob_of_defection_is_non_zero[\"prob_of_game_ending\"] >= min_p_thresh) & (prob_of_defection_is_non_zero[\"prob_of_game_ending\"] <= max_p_thresh)]\n",
    "        median_p_thresh = non_zero_defection_prob_between_min_max[\"prob_of_game_ending\"].median()\n",
    "    return(median_p_thresh)"
   ]
  },
  {
   "cell_type": "code",
   "execution_count": 14,
   "metadata": {},
   "outputs": [
    {
     "ename": "ValueError",
     "evalue": "min() arg is an empty sequence",
     "output_type": "error",
     "traceback": [
      "\u001b[1;31m---------------------------------------------------------------------------\u001b[0m",
      "\u001b[1;31mValueError\u001b[0m                                Traceback (most recent call last)",
      "\u001b[1;32m<ipython-input-14-737b3109a3dc>\u001b[0m in \u001b[0;36m<module>\u001b[1;34m\u001b[0m\n\u001b[0;32m      1\u001b[0m \u001b[0mmin_p_thresh\u001b[0m \u001b[1;33m=\u001b[0m \u001b[0mfind_min_p_thresh\u001b[0m\u001b[1;33m(\u001b[0m\u001b[0mtournament_set\u001b[0m\u001b[1;33m=\u001b[0m\u001b[0mtrial_data\u001b[0m\u001b[1;33m)\u001b[0m\u001b[1;33m\u001b[0m\u001b[1;33m\u001b[0m\u001b[0m\n\u001b[1;32m----> 2\u001b[1;33m \u001b[0mmax_p_thresh\u001b[0m \u001b[1;33m=\u001b[0m \u001b[0mfind_max_p_thresh\u001b[0m\u001b[1;33m(\u001b[0m\u001b[0mtournament_set\u001b[0m\u001b[1;33m=\u001b[0m\u001b[0mtrial_data\u001b[0m\u001b[1;33m)\u001b[0m\u001b[1;33m\u001b[0m\u001b[1;33m\u001b[0m\u001b[0m\n\u001b[0m\u001b[0;32m      3\u001b[0m \u001b[0mmean_p_thresh\u001b[0m \u001b[1;33m=\u001b[0m \u001b[0mfind_mean_p_thresh\u001b[0m\u001b[1;33m(\u001b[0m\u001b[0mtournament_set\u001b[0m\u001b[1;33m=\u001b[0m\u001b[0mtrial_data\u001b[0m\u001b[1;33m,\u001b[0m \u001b[0mmin_p_thresh\u001b[0m\u001b[1;33m=\u001b[0m\u001b[0mmin_p_thresh\u001b[0m\u001b[1;33m,\u001b[0m \u001b[0mmax_p_thresh\u001b[0m\u001b[1;33m=\u001b[0m\u001b[0mmax_p_thresh\u001b[0m\u001b[1;33m)\u001b[0m\u001b[1;33m\u001b[0m\u001b[1;33m\u001b[0m\u001b[0m\n\u001b[0;32m      4\u001b[0m \u001b[0mmedian_p_thresh\u001b[0m \u001b[1;33m=\u001b[0m \u001b[0mfind_median_p_thresh\u001b[0m\u001b[1;33m(\u001b[0m\u001b[0mtournament_set\u001b[0m\u001b[1;33m=\u001b[0m\u001b[0mtrial_data\u001b[0m\u001b[1;33m,\u001b[0m \u001b[0mmin_p_thresh\u001b[0m\u001b[1;33m=\u001b[0m\u001b[0mmin_p_thresh\u001b[0m\u001b[1;33m,\u001b[0m \u001b[0mmax_p_thresh\u001b[0m\u001b[1;33m=\u001b[0m\u001b[0mmax_p_thresh\u001b[0m\u001b[1;33m)\u001b[0m\u001b[1;33m\u001b[0m\u001b[1;33m\u001b[0m\u001b[0m\n\u001b[0;32m      5\u001b[0m \u001b[1;33m\u001b[0m\u001b[0m\n",
      "\u001b[1;32m<ipython-input-5-bf48784c75b4>\u001b[0m in \u001b[0;36mfind_max_p_thresh\u001b[1;34m(tournament_set)\u001b[0m\n\u001b[0;32m     17\u001b[0m         \u001b[0mprob_of_defection_is_non_zero\u001b[0m \u001b[1;33m=\u001b[0m \u001b[0mtournament_set\u001b[0m\u001b[1;33m[\u001b[0m\u001b[0mtournament_set\u001b[0m\u001b[1;33m[\u001b[0m\u001b[1;34m\"least_prob_of_defection\"\u001b[0m\u001b[1;33m]\u001b[0m \u001b[1;33m!=\u001b[0m \u001b[1;36m0\u001b[0m\u001b[1;33m]\u001b[0m\u001b[1;33m\u001b[0m\u001b[1;33m\u001b[0m\u001b[0m\n\u001b[0;32m     18\u001b[0m         \u001b[0mmax_zero_defection_game_ending\u001b[0m \u001b[1;33m=\u001b[0m \u001b[0mmax\u001b[0m\u001b[1;33m(\u001b[0m\u001b[0mprob_of_defection_is_zero\u001b[0m\u001b[1;33m[\u001b[0m\u001b[1;34m\"prob_of_game_ending\"\u001b[0m\u001b[1;33m]\u001b[0m\u001b[1;33m)\u001b[0m\u001b[1;33m\u001b[0m\u001b[1;33m\u001b[0m\u001b[0m\n\u001b[1;32m---> 19\u001b[1;33m         \u001b[0mmax_p_thresh\u001b[0m \u001b[1;33m=\u001b[0m \u001b[0mmin\u001b[0m\u001b[1;33m(\u001b[0m\u001b[0mprob_of_defection_is_non_zero\u001b[0m\u001b[1;33m[\u001b[0m\u001b[0mprob_of_defection_is_non_zero\u001b[0m\u001b[1;33m[\u001b[0m\u001b[1;34m\"prob_of_game_ending\"\u001b[0m\u001b[1;33m]\u001b[0m \u001b[1;33m>\u001b[0m \u001b[0mmax_zero_defection_game_ending\u001b[0m\u001b[1;33m]\u001b[0m\u001b[1;33m[\u001b[0m\u001b[1;34m\"prob_of_game_ending\"\u001b[0m\u001b[1;33m]\u001b[0m\u001b[1;33m)\u001b[0m\u001b[1;33m\u001b[0m\u001b[1;33m\u001b[0m\u001b[0m\n\u001b[0m\u001b[0;32m     20\u001b[0m     \u001b[1;32mreturn\u001b[0m\u001b[1;33m(\u001b[0m\u001b[0mmax_p_thresh\u001b[0m\u001b[1;33m)\u001b[0m\u001b[1;33m\u001b[0m\u001b[1;33m\u001b[0m\u001b[0m\n",
      "\u001b[1;31mValueError\u001b[0m: min() arg is an empty sequence"
     ]
    }
   ],
   "source": [
    "min_p_thresh = find_min_p_thresh(tournament_set=trial_data)\n",
    "max_p_thresh = find_max_p_thresh(tournament_set=trial_data)\n",
    "mean_p_thresh = find_mean_p_thresh(tournament_set=trial_data, min_p_thresh=min_p_thresh, max_p_thresh=max_p_thresh)\n",
    "median_p_thresh = find_median_p_thresh(tournament_set=trial_data, min_p_thresh=min_p_thresh, max_p_thresh=max_p_thresh)\n",
    "\n",
    "min_p_thresh, max_p_thresh, mean_p_thresh, median_p_thresh"
   ]
  },
  {
   "cell_type": "code",
   "execution_count": null,
   "metadata": {},
   "outputs": [],
   "source": []
  }
 ]
}