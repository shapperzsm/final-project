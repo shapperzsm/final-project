{
 "nbformat": 4,
 "nbformat_minor": 2,
 "metadata": {
  "language_info": {
   "name": "python",
   "codemirror_mode": {
    "name": "ipython",
    "version": 3
   },
   "version": "3.7.3"
  },
  "orig_nbformat": 2,
  "file_extension": ".py",
  "mimetype": "text/x-python",
  "name": "python",
  "npconvert_exporter": "python",
  "pygments_lexer": "ipython3",
  "version": 3
 },
 "cells": [
  {
   "cell_type": "code",
   "execution_count": 3,
   "metadata": {},
   "outputs": [
    {
     "data": {
      "text/plain": "561907"
     },
     "execution_count": 3,
     "metadata": {},
     "output_type": "execute_result"
    }
   ],
   "source": [
    "from pathlib import *\n",
    "import sqlalchemy as sa\n",
    "import pandas as pd\n",
    "import csv\n",
    "\n",
    "database_management_sys = sa.create_engine('sqlite:///../database-code/data/se/main.db')\n",
    "connect_dbms_to_db = database_management_sys.connect()\n",
    "data = pd.read_sql(\"folk_theorem_experiment\", connect_dbms_to_db)\n",
    "len(data)"
   ]
  },
  {
   "cell_type": "code",
   "execution_count": 4,
   "metadata": {},
   "outputs": [
    {
     "data": {
      "text/plain": "['experiment_number',\n 'number_of_players',\n 'tournament_player_set',\n 'player_strategy_name',\n 'is_long_run_time',\n 'is_stochastic',\n 'memory_depth_of_strategy',\n 'prob_of_game_ending',\n 'payoff_matrix',\n 'num_of_repetitions',\n 'num_of_equilibria',\n 'nash_equilibria',\n 'least_prob_of_defection',\n 'greatest_prob_of_defection',\n 'noise',\n 'warning_message']"
     },
     "execution_count": 4,
     "metadata": {},
     "output_type": "execute_result"
    }
   ],
   "source": [
    "table_headings = pd.read_sql(\n",
    "    \"folk_theorem_experiment\", connect_dbms_to_db\n",
    ").columns.tolist()\n",
    "table_headings"
   ]
  },
  {
   "cell_type": "code",
   "execution_count": 5,
   "metadata": {},
   "outputs": [],
   "source": [
    "p = Path(\"../database-code/data/prob_end_threshold\")\n",
    "p.mkdir(parents=True, exist_ok=True)\n",
    "\n",
    "threshold_file = p / \"main.csv\"\n",
    "with open(str(threshold_file), \"w\") as thresh_file:\n",
    "    write_to_csv = csv.writer(thresh_file)\n",
    "    write_to_csv.writerow((\"number_of_players\", \"tournament_player_set\", \"noise\", \"min_p_threshold\", \"mean_p_threshold\", \"median_p_threshold\", \"max_p_threshold\"))"
   ]
  },
  {
   "cell_type": "code",
   "execution_count": 6,
   "metadata": {},
   "outputs": [
    {
     "data": {
      "text/plain": "126"
     },
     "execution_count": 6,
     "metadata": {},
     "output_type": "execute_result"
    }
   ],
   "source": [
    "max_tournament_player_set = \"\"\"\n",
    "    SELECT MAX(tournament_player_set) FROM folk_theorem_experiment\n",
    "\"\"\"\n",
    "max_num_of_player_sets = pd.read_sql(max_tournament_player_set, connect_dbms_to_db)\n",
    "maximum_player_set = max_num_of_player_sets[\"MAX(tournament_player_set)\"][0]\n",
    "maximum_player_set"
   ]
  },
  {
   "cell_type": "code",
   "execution_count": 7,
   "metadata": {},
   "outputs": [],
   "source": [
    "player_set_collection = \"\"\"\n",
    "    SELECT * FROM folk_theorem_experiment\n",
    "    WHERE tournament_player_set = ?\n",
    "\"\"\""
   ]
  },
  {
   "cell_type": "code",
   "execution_count": 8,
   "metadata": {},
   "outputs": [
    {
     "ename": "PermissionError",
     "evalue": "[Errno 13] Permission denied: '..\\\\database-code\\\\data\\\\prob_end_threshold\\\\main.csv'",
     "output_type": "error",
     "traceback": [
      "\u001b[1;31m---------------------------------------------------------------------------\u001b[0m",
      "\u001b[1;31mPermissionError\u001b[0m                           Traceback (most recent call last)",
      "\u001b[1;32m<ipython-input-8-d0fc75951535>\u001b[0m in \u001b[0;36m<module>\u001b[1;34m\u001b[0m\n\u001b[0;32m     44\u001b[0m             \u001b[0mmedian_threshold\u001b[0m \u001b[1;33m=\u001b[0m \u001b[0mthreshold_between_not_zero\u001b[0m\u001b[1;33m[\u001b[0m\u001b[1;34m\"prob_of_game_ending\"\u001b[0m\u001b[1;33m]\u001b[0m\u001b[1;33m.\u001b[0m\u001b[0mmedian\u001b[0m\u001b[1;33m(\u001b[0m\u001b[1;33m)\u001b[0m\u001b[1;33m\u001b[0m\u001b[1;33m\u001b[0m\u001b[0m\n\u001b[0;32m     45\u001b[0m \u001b[1;33m\u001b[0m\u001b[0m\n\u001b[1;32m---> 46\u001b[1;33m         \u001b[1;32mwith\u001b[0m \u001b[0mopen\u001b[0m\u001b[1;33m(\u001b[0m\u001b[0mstr\u001b[0m\u001b[1;33m(\u001b[0m\u001b[0mthreshold_file\u001b[0m\u001b[1;33m)\u001b[0m\u001b[1;33m,\u001b[0m \u001b[1;34m\"a\"\u001b[0m\u001b[1;33m)\u001b[0m \u001b[1;32mas\u001b[0m \u001b[0mthresh_file\u001b[0m\u001b[1;33m:\u001b[0m\u001b[1;33m\u001b[0m\u001b[1;33m\u001b[0m\u001b[0m\n\u001b[0m\u001b[0;32m     47\u001b[0m             \u001b[0mwrite_to_csv\u001b[0m \u001b[1;33m=\u001b[0m \u001b[0mcsv\u001b[0m\u001b[1;33m.\u001b[0m\u001b[0mwriter\u001b[0m\u001b[1;33m(\u001b[0m\u001b[0mthresh_file\u001b[0m\u001b[1;33m)\u001b[0m\u001b[1;33m\u001b[0m\u001b[1;33m\u001b[0m\u001b[0m\n\u001b[0;32m     48\u001b[0m             \u001b[0mwrite_to_csv\u001b[0m\u001b[1;33m.\u001b[0m\u001b[0mwriterow\u001b[0m\u001b[1;33m(\u001b[0m\u001b[1;33m(\u001b[0m\u001b[0mstr\u001b[0m\u001b[1;33m(\u001b[0m\u001b[0mnum_of_players\u001b[0m\u001b[1;33m)\u001b[0m\u001b[1;33m,\u001b[0m \u001b[0mstr\u001b[0m\u001b[1;33m(\u001b[0m\u001b[0meach_set\u001b[0m\u001b[1;33m)\u001b[0m\u001b[1;33m,\u001b[0m \u001b[0mstr\u001b[0m\u001b[1;33m(\u001b[0m\u001b[0mround\u001b[0m\u001b[1;33m(\u001b[0m\u001b[0mnoise\u001b[0m\u001b[1;33m,\u001b[0m \u001b[1;36m1\u001b[0m\u001b[1;33m)\u001b[0m\u001b[1;33m)\u001b[0m\u001b[1;33m,\u001b[0m \u001b[0mstr\u001b[0m\u001b[1;33m(\u001b[0m\u001b[0mmin_threshold\u001b[0m\u001b[1;33m)\u001b[0m\u001b[1;33m,\u001b[0m \u001b[0mstr\u001b[0m\u001b[1;33m(\u001b[0m\u001b[0mmean_threshold\u001b[0m\u001b[1;33m)\u001b[0m\u001b[1;33m,\u001b[0m \u001b[0mstr\u001b[0m\u001b[1;33m(\u001b[0m\u001b[0mmedian_threshold\u001b[0m\u001b[1;33m)\u001b[0m\u001b[1;33m,\u001b[0m \u001b[0mstr\u001b[0m\u001b[1;33m(\u001b[0m\u001b[0mmax_threshold\u001b[0m\u001b[1;33m)\u001b[0m\u001b[1;33m)\u001b[0m\u001b[1;33m)\u001b[0m\u001b[1;33m\u001b[0m\u001b[1;33m\u001b[0m\u001b[0m\n",
      "\u001b[1;31mPermissionError\u001b[0m: [Errno 13] Permission denied: '..\\\\database-code\\\\data\\\\prob_end_threshold\\\\main.csv'"
     ]
    }
   ],
   "source": [
    "for each_set in range(maximum_player_set):\n",
    "\n",
    "    collect_relevant_data = connect_dbms_to_db.execute(\n",
    "        player_set_collection, each_set\n",
    "    )\n",
    "    each_set_data = pd.DataFrame(\n",
    "        collect_relevant_data.fetchall(), columns=table_headings\n",
    "    )\n",
    "\n",
    "    num_of_players = each_set_data[\"number_of_players\"][0]\n",
    "\n",
    "    for noise in list(each_set_data[\"noise\"].drop_duplicates()):    \n",
    "        \n",
    "        specific_noise_data = each_set_data[each_set_data[\"noise\"] == noise]\n",
    "\n",
    "\n",
    "        zero_prob = specific_noise_data[specific_noise_data[\"least_prob_of_defection\"] == 0] \n",
    "        non_zero_prob = specific_noise_data[specific_noise_data[\"least_prob_of_defection\"] != 0]\n",
    "\n",
    "        if len(zero_prob) == 0:\n",
    "            max_threshold = min(specific_noise_data[\"least_prob_of_defection\"])\n",
    "        else:\n",
    "            max_threshold = max(zero_prob[\"prob_of_game_ending\"])\n",
    "        \n",
    "        \n",
    "        if len(non_zero_prob) == 0:\n",
    "            min_threshold = max(specific_noise_data[\"least_prob_of_defection\"])\n",
    "        else:\n",
    "            min_threshold = min(non_zero_prob[\"prob_of_game_ending\"])\n",
    "\n",
    "        \n",
    "        \n",
    "        if min_threshold == max_threshold:\n",
    "            mean_threshold = min_threshold\n",
    "            median_threshold = min_threshold\n",
    "\n",
    "        else:\n",
    "            threshold_between = specific_noise_data[(specific_noise_data[\"prob_of_game_ending\"] > min_threshold) & (specific_noise_data[\"prob_of_game_ending\"] < max_threshold)]\n",
    "\n",
    "            threshold_between_not_zero = threshold_between[threshold_between[\"least_prob_of_defection\"] != 0]\n",
    "\n",
    "            mean_threshold = threshold_between_not_zero[\"prob_of_game_ending\"].mean() \n",
    "\n",
    "            median_threshold = threshold_between_not_zero[\"prob_of_game_ending\"].median()\n",
    "\n",
    "        with open(str(threshold_file), \"a\") as thresh_file:\n",
    "            write_to_csv = csv.writer(thresh_file)\n",
    "            write_to_csv.writerow((str(num_of_players), str(each_set), str(round(noise, 1)), str(min_threshold), str(mean_threshold), str(median_threshold), str(max_threshold)))"
   ]
  },
  {
   "cell_type": "code",
   "execution_count": null,
   "metadata": {},
   "outputs": [],
   "source": []
  }
 ]
}