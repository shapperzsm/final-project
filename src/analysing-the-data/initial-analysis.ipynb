{
 "nbformat": 4,
 "nbformat_minor": 2,
 "metadata": {
  "language_info": {
   "name": "python",
   "codemirror_mode": {
    "name": "ipython",
    "version": 3
   },
   "version": "3.7.3"
  },
  "orig_nbformat": 2,
  "file_extension": ".py",
  "mimetype": "text/x-python",
  "name": "python",
  "npconvert_exporter": "python",
  "pygments_lexer": "ipython3",
  "version": 3
 },
 "cells": [
  {
   "cell_type": "code",
   "execution_count": 3,
   "metadata": {},
   "outputs": [],
   "source": [
    "from pathlib import *\n",
    "import sqlalchemy as sa\n",
    "import pandas as pd\n",
    "import csv\n",
    "\n",
    "database_management_sys = sa.create_engine('sqlite:///C:/Users/sophi/Desktop/rerun-data-no-long-run/se/main.db')\n",
    "connect_dbms_to_db = database_management_sys.connect()"
   ]
  },
  {
   "cell_type": "code",
   "execution_count": 4,
   "metadata": {},
   "outputs": [
    {
     "data": {
      "text/plain": "531400"
     },
     "execution_count": 4,
     "metadata": {},
     "output_type": "execute_result"
    }
   ],
   "source": [
    "data = pd.read_sql(\"folk_theorem_experiment\", connect_dbms_to_db)\n",
    "len(data)"
   ]
  },
  {
   "cell_type": "code",
   "execution_count": 3,
   "metadata": {},
   "outputs": [
    {
     "data": {
      "text/plain": "['experiment_number',\n 'number_of_players',\n 'tournament_player_set',\n 'player_strategy_name',\n 'is_long_run_time',\n 'is_stochastic',\n 'memory_depth_of_strategy',\n 'prob_of_game_ending',\n 'payoff_matrix',\n 'num_of_repetitions',\n 'num_of_equilibria',\n 'nash_equilibria',\n 'least_prob_of_defection',\n 'greatest_prob_of_defection',\n 'noise',\n 'warning_message']"
     },
     "execution_count": 3,
     "metadata": {},
     "output_type": "execute_result"
    }
   ],
   "source": [
    "table_headings = pd.read_sql(\n",
    "    \"folk_theorem_experiment\", connect_dbms_to_db\n",
    ").columns.tolist()\n",
    "table_headings"
   ]
  },
  {
   "cell_type": "code",
   "execution_count": 9,
   "metadata": {},
   "outputs": [
    {
     "data": {
      "text/plain": "12"
     },
     "execution_count": 9,
     "metadata": {},
     "output_type": "execute_result"
    }
   ],
   "source": [
    "max_tournament_player_set = \"\"\"\n",
    "    SELECT MAX(tournament_player_set) FROM folk_theorem_experiment\n",
    "\"\"\"\n",
    "max_num_of_player_sets = pd.read_sql(max_tournament_player_set, connect_dbms_to_db)\n",
    "maximum_player_set = max_num_of_player_sets[\"MAX(tournament_player_set)\"][0]\n",
    "maximum_player_set"
   ]
  },
  {
   "cell_type": "code",
   "execution_count": 10,
   "metadata": {},
   "outputs": [],
   "source": [
    "player_set_collection = \"\"\"\n",
    "    SELECT * FROM folk_theorem_experiment\n",
    "    WHERE tournament_player_set = ?\n",
    "\"\"\""
   ]
  },
  {
   "cell_type": "code",
   "execution_count": 17,
   "metadata": {},
   "outputs": [],
   "source": [
    "p = Path(\"../database-code/data/prob_end_threshold\")\n",
    "p.mkdir(parents=True, exist_ok=True)\n",
    "\n",
    "threshold_file = p / \"main.csv\"\n",
    "with open(str(threshold_file), \"w\") as thresh_file:\n",
    "    write_to_csv = csv.writer(thresh_file)\n",
    "    write_to_csv.writerow((\"number_of_players\", \"tournament_player_set\", \"noise\", \"min_p_threshold\", \"mean_p_threshold\", \"median_p_threshold\", \"max_p_threshold\"))"
   ]
  },
  {
   "cell_type": "code",
   "execution_count": 22,
   "metadata": {},
   "outputs": [
    {
     "ename": "ValueError",
     "evalue": "The truth value of a Series is ambiguous. Use a.empty, a.bool(), a.item(), a.any() or a.all().",
     "output_type": "error",
     "traceback": [
      "\u001b[1;31m---------------------------------------------------------------------------\u001b[0m",
      "\u001b[1;31mValueError\u001b[0m                                Traceback (most recent call last)",
      "\u001b[1;32m<ipython-input-22-c9973eb61302>\u001b[0m in \u001b[0;36m<module>\u001b[1;34m\u001b[0m\n\u001b[0;32m     36\u001b[0m \u001b[1;33m\u001b[0m\u001b[0m\n\u001b[0;32m     37\u001b[0m         \u001b[1;32melse\u001b[0m\u001b[1;33m:\u001b[0m\u001b[1;33m\u001b[0m\u001b[1;33m\u001b[0m\u001b[0m\n\u001b[1;32m---> 38\u001b[1;33m             \u001b[0mthreshold_between\u001b[0m \u001b[1;33m=\u001b[0m \u001b[0mspecific_noise_data\u001b[0m\u001b[1;33m[\u001b[0m\u001b[1;33m(\u001b[0m\u001b[0mspecific_noise_data\u001b[0m\u001b[1;33m[\u001b[0m\u001b[1;34m\"prob_of_game_ending\"\u001b[0m\u001b[1;33m]\u001b[0m \u001b[1;33m>\u001b[0m \u001b[0mmin_threshold\u001b[0m\u001b[1;33m)\u001b[0m \u001b[1;32mand\u001b[0m \u001b[1;33m(\u001b[0m\u001b[0mspecific_noise_data\u001b[0m\u001b[1;33m[\u001b[0m\u001b[1;34m\"prob_of_game_ending\"\u001b[0m\u001b[1;33m]\u001b[0m \u001b[1;33m<\u001b[0m \u001b[0mmax_threshold\u001b[0m\u001b[1;33m)\u001b[0m\u001b[1;33m]\u001b[0m\u001b[1;33m\u001b[0m\u001b[1;33m\u001b[0m\u001b[0m\n\u001b[0m\u001b[0;32m     39\u001b[0m \u001b[1;33m\u001b[0m\u001b[0m\n\u001b[0;32m     40\u001b[0m             \u001b[0mthreshold_between_not_zero\u001b[0m \u001b[1;33m=\u001b[0m \u001b[0mthreshold_between\u001b[0m\u001b[1;33m[\u001b[0m\u001b[0mthreshold_between\u001b[0m\u001b[1;33m[\u001b[0m\u001b[1;34m\"least_prob_of_defection\"\u001b[0m\u001b[1;33m]\u001b[0m \u001b[1;33m!=\u001b[0m \u001b[1;36m0\u001b[0m\u001b[1;33m]\u001b[0m\u001b[1;33m\u001b[0m\u001b[1;33m\u001b[0m\u001b[0m\n",
      "\u001b[1;32m~\\Anaconda3\\lib\\site-packages\\pandas\\core\\generic.py\u001b[0m in \u001b[0;36m__nonzero__\u001b[1;34m(self)\u001b[0m\n\u001b[0;32m   1476\u001b[0m         raise ValueError(\"The truth value of a {0} is ambiguous. \"\n\u001b[0;32m   1477\u001b[0m                          \u001b[1;34m\"Use a.empty, a.bool(), a.item(), a.any() or a.all().\"\u001b[0m\u001b[1;33m\u001b[0m\u001b[1;33m\u001b[0m\u001b[0m\n\u001b[1;32m-> 1478\u001b[1;33m                          .format(self.__class__.__name__))\n\u001b[0m\u001b[0;32m   1479\u001b[0m \u001b[1;33m\u001b[0m\u001b[0m\n\u001b[0;32m   1480\u001b[0m     \u001b[0m__bool__\u001b[0m \u001b[1;33m=\u001b[0m \u001b[0m__nonzero__\u001b[0m\u001b[1;33m\u001b[0m\u001b[1;33m\u001b[0m\u001b[0m\n",
      "\u001b[1;31mValueError\u001b[0m: The truth value of a Series is ambiguous. Use a.empty, a.bool(), a.item(), a.any() or a.all()."
     ]
    }
   ],
   "source": [
    "for each_set in range(maximum_player_set):\n",
    "\n",
    "    collect_relevant_data = connect_dbms_to_db.execute(\n",
    "        player_set_collection, each_set\n",
    "    )\n",
    "    each_set_data = pd.DataFrame(\n",
    "        collect_relevant_data.fetchall(), columns=table_headings\n",
    "    )\n",
    "\n",
    "    num_of_players = each_set_data[\"number_of_players\"][0]\n",
    "\n",
    "    for noise in list(each_set_data[\"noise\"].drop_duplicates()):    \n",
    "        \n",
    "        specific_noise_data = each_set_data[each_set_data[\"noise\"] == noise]\n",
    "\n",
    "\n",
    "        zero_prob = specific_noise_data[specific_noise_data[\"least_prob_of_defection\"] == 0] \n",
    "        non_zero_prob = specific_noise_data[specific_noise_data[\"least_prob_of_defection\"] != 0]\n",
    "\n",
    "        if len(zero_prob) == 0:\n",
    "            max_threshold = min(specific_noise_data[\"least_prob_of_defection\"])\n",
    "        else:\n",
    "            max_threshold = max(zero_prob[\"prob_of_game_ending\"])\n",
    "        \n",
    "        \n",
    "        if len(non_zero_prob) == 0:\n",
    "            min_threshold = max(specific_noise_data[\"least_prob_of_defection\"])\n",
    "        else:\n",
    "            min_threshold = min(non_zero_prob[\"prob_of_game_ending\"])\n",
    "\n",
    "        \n",
    "        \n",
    "        if min_threshold == max_threshold:\n",
    "            mean_threshold = min_threshold\n",
    "            median_threshold = min_threshold\n",
    "\n",
    "        else:\n",
    "            threshold_between = specific_noise_data[(specific_noise_data[\"prob_of_game_ending\"] > min_threshold) & (specific_noise_data[\"prob_of_game_ending\"] < max_threshold)]\n",
    "\n",
    "            threshold_between_not_zero = threshold_between[threshold_between[\"least_prob_of_defection\"] != 0]\n",
    "\n",
    "            mean_threshold = threshold_between_not_zero[\"prob_of_game_ending\"].mean() \n",
    "\n",
    "            median_threshold = threshold_between_not_zero[\"prob_of_game_ending\"].median()\n",
    "\n",
    "        with open(str(threshold_file), \"a\") as thresh_file:\n",
    "            write_to_csv = csv.writer(thresh_file)\n",
    "            write_to_csv.writerow((str(num_of_players), str(each_set), str(round(noise, 1)), str(min_threshold), str(mean_threshold), str(median_threshold), str(max_threshold)))"
   ]
  },
  {
   "cell_type": "code",
   "execution_count": null,
   "metadata": {},
   "outputs": [],
   "source": []
  }
 ]
}