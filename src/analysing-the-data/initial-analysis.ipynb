{
 "nbformat": 4,
 "nbformat_minor": 2,
 "metadata": {
  "language_info": {
   "name": "python",
   "codemirror_mode": {
    "name": "ipython",
    "version": 3
   },
   "version": "3.7.3"
  },
  "orig_nbformat": 2,
  "file_extension": ".py",
  "mimetype": "text/x-python",
  "name": "python",
  "npconvert_exporter": "python",
  "pygments_lexer": "ipython3",
  "version": 3
 },
 "cells": [
  {
   "cell_type": "code",
   "execution_count": 1,
   "metadata": {},
   "outputs": [],
   "source": [
    "import sqlalchemy as sa\n",
    "import pandas as pd\n",
    "\n",
    "database_management_sys = sa.create_engine('sqlite:///../../../../Desktop/rerun-data-no-long-run/se/from_csv.db')\n",
    "connect_dbms_to_db = database_management_sys.connect()"
   ]
  },
  {
   "cell_type": "code",
   "execution_count": 2,
   "metadata": {},
   "outputs": [
    {
     "data": {
      "text/plain": "513400"
     },
     "execution_count": 2,
     "metadata": {},
     "output_type": "execute_result"
    }
   ],
   "source": [
    "data = pd.read_sql(\"folk_theorem_experiment\", connect_dbms_to_db)\n",
    "len(data)"
   ]
  },
  {
   "cell_type": "code",
   "execution_count": 7,
   "metadata": {},
   "outputs": [
    {
     "data": {
      "text/html": "<div>\n<style scoped>\n    .dataframe tbody tr th:only-of-type {\n        vertical-align: middle;\n    }\n\n    .dataframe tbody tr th {\n        vertical-align: top;\n    }\n\n    .dataframe thead th {\n        text-align: right;\n    }\n</style>\n<table border=\"1\" class=\"dataframe\">\n  <thead>\n    <tr style=\"text-align: right;\">\n      <th></th>\n      <th>experiment_number</th>\n      <th>number_of_players</th>\n      <th>tournament_player_set</th>\n      <th>player_strategy_name</th>\n      <th>is_long_run_time</th>\n      <th>is_stochastic</th>\n      <th>memory_depth_of_strategy</th>\n      <th>prob_of_game_ending</th>\n      <th>payoff_matrix</th>\n      <th>num_of_repetitions</th>\n      <th>num_of_equilibria</th>\n      <th>nash_equilibria</th>\n      <th>least_prob_of_defection</th>\n      <th>greatest_prob_of_defection</th>\n      <th>noise</th>\n      <th>warning_message</th>\n    </tr>\n  </thead>\n  <tbody>\n    <tr>\n      <th>513395</th>\n      <td>131399</td>\n      <td>6</td>\n      <td>119</td>\n      <td>Grumpy: Nice, 10, -10</td>\n      <td>0</td>\n      <td>0</td>\n      <td>Inf</td>\n      <td>0.999</td>\n      <td>2.4405  2.504   2.508   2.394   1.768   1.722...</td>\n      <td>500</td>\n      <td>1</td>\n      <td>0.  0.  0.  0.  0.  1.  0.  0.  0.  0.  0.  1.</td>\n      <td>1.0</td>\n      <td>1.0</td>\n      <td>0.4</td>\n      <td>None</td>\n    </tr>\n    <tr>\n      <th>513396</th>\n      <td>131399</td>\n      <td>6</td>\n      <td>119</td>\n      <td>Retaliate 2: 0.08</td>\n      <td>0</td>\n      <td>0</td>\n      <td>Inf</td>\n      <td>0.999</td>\n      <td>2.4405  2.504   2.508   2.394   1.768   1.722...</td>\n      <td>500</td>\n      <td>1</td>\n      <td>0.  0.  0.  0.  0.  1.  0.  0.  0.  0.  0.  1.</td>\n      <td>1.0</td>\n      <td>1.0</td>\n      <td>0.4</td>\n      <td>None</td>\n    </tr>\n    <tr>\n      <th>513397</th>\n      <td>131399</td>\n      <td>6</td>\n      <td>119</td>\n      <td>Cycle Hunter</td>\n      <td>0</td>\n      <td>0</td>\n      <td>Inf</td>\n      <td>0.999</td>\n      <td>2.4405  2.504   2.508   2.394   1.768   1.722...</td>\n      <td>500</td>\n      <td>1</td>\n      <td>0.  0.  0.  0.  0.  1.  0.  0.  0.  0.  0.  1.</td>\n      <td>1.0</td>\n      <td>1.0</td>\n      <td>0.4</td>\n      <td>None</td>\n    </tr>\n    <tr>\n      <th>513398</th>\n      <td>131399</td>\n      <td>6</td>\n      <td>119</td>\n      <td>Cycler DC</td>\n      <td>0</td>\n      <td>0</td>\n      <td>1</td>\n      <td>0.999</td>\n      <td>2.4405  2.504   2.508   2.394   1.768   1.722...</td>\n      <td>500</td>\n      <td>1</td>\n      <td>0.  0.  0.  0.  0.  1.  0.  0.  0.  0.  0.  1.</td>\n      <td>1.0</td>\n      <td>1.0</td>\n      <td>0.4</td>\n      <td>None</td>\n    </tr>\n    <tr>\n      <th>513399</th>\n      <td>131399</td>\n      <td>6</td>\n      <td>119</td>\n      <td>Defector</td>\n      <td>0</td>\n      <td>0</td>\n      <td>0</td>\n      <td>0.999</td>\n      <td>2.4405  2.504   2.508   2.394   1.768   1.722...</td>\n      <td>500</td>\n      <td>1</td>\n      <td>0.  0.  0.  0.  0.  1.  0.  0.  0.  0.  0.  1.</td>\n      <td>1.0</td>\n      <td>1.0</td>\n      <td>0.4</td>\n      <td>None</td>\n    </tr>\n  </tbody>\n</table>\n</div>",
      "text/plain": "       experiment_number number_of_players tournament_player_set  \\\n513395            131399                 6                   119   \n513396            131399                 6                   119   \n513397            131399                 6                   119   \n513398            131399                 6                   119   \n513399            131399                 6                   119   \n\n         player_strategy_name is_long_run_time is_stochastic  \\\n513395  Grumpy: Nice, 10, -10                0             0   \n513396      Retaliate 2: 0.08                0             0   \n513397           Cycle Hunter                0             0   \n513398              Cycler DC                0             0   \n513399               Defector                0             0   \n\n       memory_depth_of_strategy prob_of_game_ending  \\\n513395                      Inf               0.999   \n513396                      Inf               0.999   \n513397                      Inf               0.999   \n513398                        1               0.999   \n513399                        0               0.999   \n\n                                            payoff_matrix num_of_repetitions  \\\n513395   2.4405  2.504   2.508   2.394   1.768   1.722...                500   \n513396   2.4405  2.504   2.508   2.394   1.768   1.722...                500   \n513397   2.4405  2.504   2.508   2.394   1.768   1.722...                500   \n513398   2.4405  2.504   2.508   2.394   1.768   1.722...                500   \n513399   2.4405  2.504   2.508   2.394   1.768   1.722...                500   \n\n       num_of_equilibria                                  nash_equilibria  \\\n513395                 1   0.  0.  0.  0.  0.  1.  0.  0.  0.  0.  0.  1.   \n513396                 1   0.  0.  0.  0.  0.  1.  0.  0.  0.  0.  0.  1.   \n513397                 1   0.  0.  0.  0.  0.  1.  0.  0.  0.  0.  0.  1.   \n513398                 1   0.  0.  0.  0.  0.  1.  0.  0.  0.  0.  0.  1.   \n513399                 1   0.  0.  0.  0.  0.  1.  0.  0.  0.  0.  0.  1.   \n\n       least_prob_of_defection greatest_prob_of_defection noise  \\\n513395                     1.0                        1.0   0.4   \n513396                     1.0                        1.0   0.4   \n513397                     1.0                        1.0   0.4   \n513398                     1.0                        1.0   0.4   \n513399                     1.0                        1.0   0.4   \n\n       warning_message  \n513395            None  \n513396            None  \n513397            None  \n513398            None  \n513399            None  "
     },
     "execution_count": 7,
     "metadata": {},
     "output_type": "execute_result"
    }
   ],
   "source": [
    "data.tail()"
   ]
  },
  {
   "cell_type": "code",
   "execution_count": 3,
   "metadata": {},
   "outputs": [
    {
     "data": {
      "text/plain": "['experiment_number',\n 'number_of_players',\n 'tournament_player_set',\n 'player_strategy_name',\n 'is_long_run_time',\n 'is_stochastic',\n 'memory_depth_of_strategy',\n 'prob_of_game_ending',\n 'payoff_matrix',\n 'num_of_repetitions',\n 'num_of_equilibria',\n 'nash_equilibria',\n 'least_prob_of_defection',\n 'greatest_prob_of_defection',\n 'noise',\n 'warning_message']"
     },
     "execution_count": 3,
     "metadata": {},
     "output_type": "execute_result"
    }
   ],
   "source": [
    "table_headings = pd.read_sql(\n",
    "    \"folk_theorem_experiment\", connect_dbms_to_db\n",
    ").columns.tolist()\n",
    "table_headings"
   ]
  },
  {
   "cell_type": "code",
   "execution_count": 10,
   "metadata": {},
   "outputs": [
    {
     "data": {
      "text/html": "<div>\n<style scoped>\n    .dataframe tbody tr th:only-of-type {\n        vertical-align: middle;\n    }\n\n    .dataframe tbody tr th {\n        vertical-align: top;\n    }\n\n    .dataframe thead th {\n        text-align: right;\n    }\n</style>\n<table border=\"1\" class=\"dataframe\">\n  <thead>\n    <tr style=\"text-align: right;\">\n      <th></th>\n      <th>MAX(tournament_player_set)</th>\n    </tr>\n  </thead>\n  <tbody>\n    <tr>\n      <th>0</th>\n      <td>99</td>\n    </tr>\n  </tbody>\n</table>\n</div>",
      "text/plain": "  MAX(tournament_player_set)\n0                         99"
     },
     "execution_count": 10,
     "metadata": {},
     "output_type": "execute_result"
    }
   ],
   "source": [
    "max_tournament_player_set = \"\"\"\n",
    "    SELECT MAX(tournament_player_set) FROM folk_theorem_experiment\n",
    "\"\"\"\n",
    "max_num_of_player_sets = pd.read_sql(max_tournament_player_set, connect_dbms_to_db)\n",
    "max_num_of_player_sets"
   ]
  },
  {
   "cell_type": "code",
   "metadata": {},
   "outputs": [],
   "source": [
    "max_experiment_num = \"\"\"\n",
    "    SELECT MAX(experiment_number) FROM folk_theorem_experiment\n",
    "\"\"\"\n",
    "max_num_of_experiments = pd.read_sql(max_experiment_num, connect_dbms_to_db)\n",
    "max_num_of_experiments"
   ]
  },
  {
   "cell_type": "code",
   "metadata": {},
   "outputs": [],
   "source": []
  }
 ]
}