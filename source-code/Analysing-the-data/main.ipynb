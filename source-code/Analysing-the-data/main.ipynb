{
 "cells": [
  {
   "cell_type": "code",
   "execution_count": 3,
   "metadata": {},
   "outputs": [],
   "source": [
    "import sqlalchemy as sa\n",
    "import pandas as pd\n",
    "\n",
    "database_management_sys = sa.create_engine('sqlite:///../Database-code/data/support_enumeration/main.db')\n",
    "connect_dbms_to_db = database_management_sys.connect()"
   ]
  },
  {
   "cell_type": "code",
   "execution_count": 5,
   "metadata": {},
   "outputs": [],
   "source": [
    "supp_en_data = pd.read_sql('folk_theorem_experiment', connect_dbms_to_db)"
   ]
  },
  {
   "cell_type": "code",
   "execution_count": 6,
   "metadata": {},
   "outputs": [
    {
     "data": {
      "text/html": "<div>\n<style scoped>\n    .dataframe tbody tr th:only-of-type {\n        vertical-align: middle;\n    }\n\n    .dataframe tbody tr th {\n        vertical-align: top;\n    }\n\n    .dataframe thead th {\n        text-align: right;\n    }\n</style>\n<table border=\"1\" class=\"dataframe\">\n  <thead>\n    <tr style=\"text-align: right;\">\n      <th></th>\n      <th>experiment_number</th>\n      <th>player_strategy_name</th>\n      <th>is_long_run_time</th>\n      <th>is_stochastic</th>\n      <th>memory_depth_of_strategy</th>\n      <th>prob_of_game_ending</th>\n      <th>payoff_matrix</th>\n      <th>num_of_repetitions</th>\n      <th>num_of_equilibria</th>\n      <th>nash_equilibria</th>\n      <th>least_prob_of_defection</th>\n      <th>greatest_prob_of_defection</th>\n      <th>noise</th>\n      <th>could_be_degenerate</th>\n    </tr>\n  </thead>\n  <tbody>\n    <tr>\n      <th>0</th>\n      <td>1</td>\n      <td>Adaptive Pavlov 2011</td>\n      <td>False</td>\n      <td>False</td>\n      <td>Inf</td>\n      <td>0.0010</td>\n      <td>3.         0.98358155 1.0656738  1.</td>\n      <td>10</td>\n      <td>3.0</td>\n      <td>1.        0.        1.        0.        0.    ...</td>\n      <td>0.0</td>\n      <td>1.0</td>\n      <td>0.0</td>\n      <td>False</td>\n    </tr>\n    <tr>\n      <th>1</th>\n      <td>1</td>\n      <td>Defector</td>\n      <td>False</td>\n      <td>False</td>\n      <td>0</td>\n      <td>0.0010</td>\n      <td>3.         0.98358155 1.0656738  1.</td>\n      <td>10</td>\n      <td>3.0</td>\n      <td>1.        0.        1.        0.        0.    ...</td>\n      <td>0.0</td>\n      <td>1.0</td>\n      <td>0.0</td>\n      <td>False</td>\n    </tr>\n    <tr>\n      <th>2</th>\n      <td>2</td>\n      <td>Adaptive Pavlov 2011</td>\n      <td>False</td>\n      <td>False</td>\n      <td>Inf</td>\n      <td>0.2505</td>\n      <td>3.         0.7347619  2.06095238 1.</td>\n      <td>10</td>\n      <td>3.0</td>\n      <td>1.         0.         1.         0.         0....</td>\n      <td>0.0</td>\n      <td>1.0</td>\n      <td>0.0</td>\n      <td>False</td>\n    </tr>\n    <tr>\n      <th>3</th>\n      <td>2</td>\n      <td>Defector</td>\n      <td>False</td>\n      <td>False</td>\n      <td>0</td>\n      <td>0.2505</td>\n      <td>3.         0.7347619  2.06095238 1.</td>\n      <td>10</td>\n      <td>3.0</td>\n      <td>1.         0.         1.         0.         0....</td>\n      <td>0.0</td>\n      <td>1.0</td>\n      <td>0.0</td>\n      <td>False</td>\n    </tr>\n    <tr>\n      <th>4</th>\n      <td>3</td>\n      <td>Adaptive Pavlov 2011</td>\n      <td>False</td>\n      <td>False</td>\n      <td>Inf</td>\n      <td>0.5000</td>\n      <td>3.  0.3 3.8 1.</td>\n      <td>10</td>\n      <td>1.0</td>\n      <td>0. 1. 0. 1.</td>\n      <td>1.0</td>\n      <td>1.0</td>\n      <td>0.0</td>\n      <td>False</td>\n    </tr>\n  </tbody>\n</table>\n</div>",
      "text/plain": "   experiment_number  player_strategy_name  is_long_run_time  is_stochastic  \\\n0                  1  Adaptive Pavlov 2011             False          False   \n1                  1              Defector             False          False   \n2                  2  Adaptive Pavlov 2011             False          False   \n3                  2              Defector             False          False   \n4                  3  Adaptive Pavlov 2011             False          False   \n\n  memory_depth_of_strategy  prob_of_game_ending  \\\n0                      Inf               0.0010   \n1                        0               0.0010   \n2                      Inf               0.2505   \n3                        0               0.2505   \n4                      Inf               0.5000   \n\n                                 payoff_matrix  num_of_repetitions  \\\n0  3.         0.98358155 1.0656738  1.                          10   \n1  3.         0.98358155 1.0656738  1.                          10   \n2  3.         0.7347619  2.06095238 1.                          10   \n3  3.         0.7347619  2.06095238 1.                          10   \n4                              3.  0.3 3.8 1.                   10   \n\n   num_of_equilibria                                    nash_equilibria  \\\n0                3.0  1.        0.        1.        0.        0.    ...   \n1                3.0  1.        0.        1.        0.        0.    ...   \n2                3.0  1.         0.         1.         0.         0....   \n3                3.0  1.         0.         1.         0.         0....   \n4                1.0                                        0. 1. 0. 1.   \n\n   least_prob_of_defection  greatest_prob_of_defection  noise  \\\n0                      0.0                         1.0    0.0   \n1                      0.0                         1.0    0.0   \n2                      0.0                         1.0    0.0   \n3                      0.0                         1.0    0.0   \n4                      1.0                         1.0    0.0   \n\n   could_be_degenerate  \n0                False  \n1                False  \n2                False  \n3                False  \n4                False  "
     },
     "execution_count": 6,
     "metadata": {},
     "output_type": "execute_result"
    }
   ],
   "source": [
    "supp_en_data.head()"
   ]
  },
  {
   "cell_type": "code",
   "execution_count": 7,
   "metadata": {},
   "outputs": [],
   "source": [
    "dbms = sa.create_engine('sqlite:///../Database-code/data/vertex_enumeration/main.db')\n",
    "connect_to_db = database_management_sys.connect()"
   ]
  },
  {
   "cell_type": "code",
   "execution_count": 8,
   "metadata": {},
   "outputs": [],
   "source": [
    "vertex_en_data = pd.read_sql('folk_theorem_experiment', connect_to_db)"
   ]
  },
  {
   "cell_type": "code",
   "execution_count": 9,
   "metadata": {},
   "outputs": [
    {
     "data": {
      "text/html": "<div>\n<style scoped>\n    .dataframe tbody tr th:only-of-type {\n        vertical-align: middle;\n    }\n\n    .dataframe tbody tr th {\n        vertical-align: top;\n    }\n\n    .dataframe thead th {\n        text-align: right;\n    }\n</style>\n<table border=\"1\" class=\"dataframe\">\n  <thead>\n    <tr style=\"text-align: right;\">\n      <th></th>\n      <th>experiment_number</th>\n      <th>player_strategy_name</th>\n      <th>is_long_run_time</th>\n      <th>is_stochastic</th>\n      <th>memory_depth_of_strategy</th>\n      <th>prob_of_game_ending</th>\n      <th>payoff_matrix</th>\n      <th>num_of_repetitions</th>\n      <th>num_of_equilibria</th>\n      <th>nash_equilibria</th>\n      <th>least_prob_of_defection</th>\n      <th>greatest_prob_of_defection</th>\n      <th>noise</th>\n      <th>could_be_degenerate</th>\n    </tr>\n  </thead>\n  <tbody>\n    <tr>\n      <th>0</th>\n      <td>1</td>\n      <td>Adaptive Pavlov 2011</td>\n      <td>False</td>\n      <td>False</td>\n      <td>Inf</td>\n      <td>0.0010</td>\n      <td>3.         0.98358155 1.0656738  1.</td>\n      <td>10</td>\n      <td>3.0</td>\n      <td>1.        0.        1.        0.        0.    ...</td>\n      <td>0.0</td>\n      <td>1.0</td>\n      <td>0.0</td>\n      <td>False</td>\n    </tr>\n    <tr>\n      <th>1</th>\n      <td>1</td>\n      <td>Defector</td>\n      <td>False</td>\n      <td>False</td>\n      <td>0</td>\n      <td>0.0010</td>\n      <td>3.         0.98358155 1.0656738  1.</td>\n      <td>10</td>\n      <td>3.0</td>\n      <td>1.        0.        1.        0.        0.    ...</td>\n      <td>0.0</td>\n      <td>1.0</td>\n      <td>0.0</td>\n      <td>False</td>\n    </tr>\n    <tr>\n      <th>2</th>\n      <td>2</td>\n      <td>Adaptive Pavlov 2011</td>\n      <td>False</td>\n      <td>False</td>\n      <td>Inf</td>\n      <td>0.2505</td>\n      <td>3.         0.7347619  2.06095238 1.</td>\n      <td>10</td>\n      <td>3.0</td>\n      <td>1.         0.         1.         0.         0....</td>\n      <td>0.0</td>\n      <td>1.0</td>\n      <td>0.0</td>\n      <td>False</td>\n    </tr>\n    <tr>\n      <th>3</th>\n      <td>2</td>\n      <td>Defector</td>\n      <td>False</td>\n      <td>False</td>\n      <td>0</td>\n      <td>0.2505</td>\n      <td>3.         0.7347619  2.06095238 1.</td>\n      <td>10</td>\n      <td>3.0</td>\n      <td>1.         0.         1.         0.         0....</td>\n      <td>0.0</td>\n      <td>1.0</td>\n      <td>0.0</td>\n      <td>False</td>\n    </tr>\n    <tr>\n      <th>4</th>\n      <td>3</td>\n      <td>Adaptive Pavlov 2011</td>\n      <td>False</td>\n      <td>False</td>\n      <td>Inf</td>\n      <td>0.5000</td>\n      <td>3.  0.3 3.8 1.</td>\n      <td>10</td>\n      <td>1.0</td>\n      <td>0. 1. 0. 1.</td>\n      <td>1.0</td>\n      <td>1.0</td>\n      <td>0.0</td>\n      <td>False</td>\n    </tr>\n  </tbody>\n</table>\n</div>",
      "text/plain": "   experiment_number  player_strategy_name  is_long_run_time  is_stochastic  \\\n0                  1  Adaptive Pavlov 2011             False          False   \n1                  1              Defector             False          False   \n2                  2  Adaptive Pavlov 2011             False          False   \n3                  2              Defector             False          False   \n4                  3  Adaptive Pavlov 2011             False          False   \n\n  memory_depth_of_strategy  prob_of_game_ending  \\\n0                      Inf               0.0010   \n1                        0               0.0010   \n2                      Inf               0.2505   \n3                        0               0.2505   \n4                      Inf               0.5000   \n\n                                 payoff_matrix  num_of_repetitions  \\\n0  3.         0.98358155 1.0656738  1.                          10   \n1  3.         0.98358155 1.0656738  1.                          10   \n2  3.         0.7347619  2.06095238 1.                          10   \n3  3.         0.7347619  2.06095238 1.                          10   \n4                              3.  0.3 3.8 1.                   10   \n\n   num_of_equilibria                                    nash_equilibria  \\\n0                3.0  1.        0.        1.        0.        0.    ...   \n1                3.0  1.        0.        1.        0.        0.    ...   \n2                3.0  1.         0.         1.         0.         0....   \n3                3.0  1.         0.         1.         0.         0....   \n4                1.0                                        0. 1. 0. 1.   \n\n   least_prob_of_defection  greatest_prob_of_defection  noise  \\\n0                      0.0                         1.0    0.0   \n1                      0.0                         1.0    0.0   \n2                      0.0                         1.0    0.0   \n3                      0.0                         1.0    0.0   \n4                      1.0                         1.0    0.0   \n\n   could_be_degenerate  \n0                False  \n1                False  \n2                False  \n3                False  \n4                False  "
     },
     "execution_count": 9,
     "metadata": {},
     "output_type": "execute_result"
    }
   ],
   "source": [
    "vertex_en_data.head()"
   ]
  },
  {
   "cell_type": "code",
   "execution_count": null,
   "metadata": {},
   "outputs": [],
   "source": []
  }
 ],
 "metadata": {
  "kernelspec": {
   "display_name": "Python 3",
   "language": "python",
   "name": "python3"
  },
  "language_info": {
   "codemirror_mode": {
    "name": "ipython",
    "version": 3
   },
   "file_extension": ".py",
   "mimetype": "text/x-python",
   "name": "python",
   "nbconvert_exporter": "python",
   "pygments_lexer": "ipython3",
   "version": "3.7.3"
  }
 },
 "nbformat": 4,
 "nbformat_minor": 2
}