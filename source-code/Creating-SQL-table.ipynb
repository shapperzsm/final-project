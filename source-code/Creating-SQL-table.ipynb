{
 "cells": [
  {
   "cell_type": "code",
   "execution_count": 1,
   "metadata": {},
   "outputs": [],
   "source": [
    "import sqlalchemy as sa\n",
    "engine = sa.create_engine('sqlite:///C:/Users/sophi/Documents/final-project/Experiment-Database.db')\n",
    "connection = engine.connect()"
   ]
  },
  {
   "cell_type": "code",
   "execution_count": 2,
   "metadata": {},
   "outputs": [
    {
     "data": {
      "text/plain": [
       "<sqlalchemy.engine.result.ResultProxy at 0x23b022a9080>"
      ]
     },
     "execution_count": 2,
     "metadata": {},
     "output_type": "execute_result"
    }
   ],
   "source": [
    "create_table = \"\"\"\n",
    "CREATE TABLE folk_theorem (\n",
    "    experiment       TEXT NOT NULL,\n",
    "    player           TEXT NOT NULL,\n",
    "    characteristics  TEXT NOT NULL,\n",
    "    p_value          REAL NOT NULL,\n",
    "    payoff_matrix    BLOB NOT NULL,\n",
    "    repetitions      INTEGER NOT NULL,\n",
    "    equilibria       BLOB NOT NULL,\n",
    "    lowest_defection REAL NOT NULL,\n",
    "    noise            BOOLEAN NOT NULL,\n",
    "        \n",
    "    CONSTRAINT folk_theorem_pk PRIMARY KEY (experiment, player),\n",
    "    CONSTRAINT p_value_ck CHECK (p_value BETWEEN 0 AND 1),\n",
    "    CONSTRAINT low_defect_ck CHECK (lowest_defection BETWEEN 0 AND 1)\n",
    ")\n",
    "\"\"\"\n",
    "connection.execute(create_table)"
   ]
  },
  {
   "cell_type": "code",
   "execution_count": null,
   "metadata": {},
   "outputs": [],
   "source": [
    "import pandas as pd\n",
    "pd.read_sql('folk_theorem', connection)\n"
   ]
  },
  {
   "cell_type": "code",
   "execution_count": null,
   "metadata": {},
   "outputs": [],
   "source": []
  }
 ],
 "metadata": {
  "kernelspec": {
   "display_name": "Python 3",
   "language": "python",
   "name": "python3"
  },
  "language_info": {
   "codemirror_mode": {
    "name": "ipython",
    "version": 3
   },
   "file_extension": ".py",
   "mimetype": "text/x-python",
   "name": "python",
   "nbconvert_exporter": "python",
   "pygments_lexer": "ipython3",
   "version": "3.7.3"
  }
 },
 "nbformat": 4,
 "nbformat_minor": 2
}
