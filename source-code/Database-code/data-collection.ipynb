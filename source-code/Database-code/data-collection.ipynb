{
 "nbformat": 4,
 "nbformat_minor": 2,
 "metadata": {
  "language_info": {
   "name": "python",
   "codemirror_mode": {
    "name": "ipython",
    "version": 3
   }
  },
  "orig_nbformat": 2,
  "file_extension": ".py",
  "mimetype": "text/x-python",
  "name": "python",
  "npconvert_exporter": "python",
  "pygments_lexer": "ipython3",
  "version": 3
 },
 "cells": [
  {
   "cell_type": "code",
   "execution_count": 1,
   "metadata": {},
   "outputs": [],
   "source": [
    "import numpy as np\n",
    "import nashpy as nash\n",
    "import axelrod as axl\n",
    "import random\n",
    "import sqlalchemy as sa\n",
    "dbms = sa.create_engine('sqlite:///Experiment_Database.db')\n",
    "connect_dbms_to_db = dbms.connect()"
   ]
  },
  {
   "cell_type": "code",
   "execution_count": 2,
   "metadata": {},
   "outputs": [],
   "source": [
    "import functions"
   ]
  },
  {
   "cell_type": "code",
   "execution_count": 3,
   "metadata": {},
   "outputs": [
    {
     "data": {
      "text/plain": "[ZD-Mischief: 0.1, 0.0, 1, Stochastic WSLS: 0.05, Hopeless, Defector]"
     },
     "execution_count": 3,
     "metadata": {},
     "output_type": "execute_result"
    }
   ],
   "source": [
    "players = functions.who_is_playing(3)\n",
    "#players[0].name\n",
    "#players[0].classifier['stochastic']\n",
    "#players[0].classifier['memory_depth']\n",
    "#players[0].classifier['long_run_time']\n",
    "players"
   ]
  },
  {
   "cell_type": "code",
   "execution_count": 4,
   "metadata": {},
   "outputs": [],
   "source": [
    "read_into_sql = \"\"\"\n",
    "    INSERT into folk_theorem_experiment \n",
    "        (experiment_number, player_strategy_name, is_long_run_time, is_stochastic, memory_depth_of_strategy, prob_of_game_ending, payoff_matrix, num_of_repetitions, num_of_equilibria, nash_equilibria, least_prob_of_defection, greatest_prob_of_defection, noise, could_be_degenerate)\n",
    "    VALUES \n",
    "        (?, ?, ?, ?, ?, ?, ?, ?, ?, ?, ?, ?, ?, ?)\n",
    "\"\"\""
   ]
  },
  {
   "cell_type": "code",
   "execution_count": 5,
   "metadata": {},
   "outputs": [],
   "source": [
    "trial_run = functions.get_game(tournament_repeat=30, player_list=players, prob_of_game_ending=0.22, set_seed=123, noise=0)\n",
    "matrix = trial_run['payoff matrix obtained']\n",
    "defect = functions.get_prob_of_defection(matrix, \"Support Enumeration\")\n",
    "#defect"
   ]
  },
  {
   "cell_type": "code",
   "execution_count": 7,
   "metadata": {},
   "outputs": [],
   "source": [
    "for player in players:\n",
    "    functions.write_record(experiment_number=1, player_strategy_name=player, is_long_run_time=player.classifier['long_run_time'], is_stochastic=player.classifier['stochastic'], memory_depth_of_strategy=player.classifier['memory_depth'], prob_of_game_ending=trial_run['probability of game ending'], payoff_matrix=trial_run['payoff matrix obtained'], num_of_repetitions=trial_run['number of tournament repeats'], nash_equilibria=defect['nash equilibria'], least_prob_of_defection=defect['least prob of defect'], greatest_prob_of_defection=defect['greatest prob of defect'], noise=trial_run['noise'], could_be_degenerate=False)"
   ]
  }
 ]
}