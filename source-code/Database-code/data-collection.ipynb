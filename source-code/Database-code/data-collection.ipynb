{
 "nbformat": 4,
 "nbformat_minor": 2,
 "metadata": {
  "language_info": {
   "name": "python",
   "codemirror_mode": {
    "name": "ipython",
    "version": 3
   }
  },
  "orig_nbformat": 2,
  "file_extension": ".py",
  "mimetype": "text/x-python",
  "name": "python",
  "npconvert_exporter": "python",
  "pygments_lexer": "ipython3",
  "version": 3
 },
 "cells": [
  {
   "cell_type": "code",
   "execution_count": 1,
   "metadata": {},
   "outputs": [],
   "source": [
    "import numpy as np\n",
    "import nashpy as nash\n",
    "import axelrod as axl\n",
    "import random\n",
    "import sqlalchemy as sa\n",
    "dbms = sa.create_engine('sqlite:///Eperiment_Database.db')\n",
    "connect_dbms_to_db = dbms.connect()"
   ]
  },
  {
   "cell_type": "code",
   "execution_count": 2,
   "metadata": {},
   "outputs": [],
   "source": [
    "import functions"
   ]
  },
  {
   "cell_type": "code",
   "execution_count": 3,
   "metadata": {},
   "outputs": [
    {
     "data": {
      "text/plain": "False"
     },
     "execution_count": 3,
     "metadata": {},
     "output_type": "execute_result"
    }
   ],
   "source": [
    "players = functions.who_is_playing(3)\n",
    "players[0].name\n",
    "players[0].classifier['stochastic']\n",
    "players[0].classifier['memory_depth']\n",
    "players[0].classifier['long_run_time']"
   ]
  },
  {
   "cell_type": "code",
   "execution_count": null,
   "metadata": {},
   "outputs": [],
   "source": []
  },
  {
   "cell_type": "code",
   "execution_count": 16,
   "metadata": {},
   "outputs": [],
   "source": [
    "trial_run = functions.get_game(tournament_repeat=30, player_list=[axl.Cooperator(), axl.TitForTat(), axl.Defector()], prob_of_game_ending=0.22, set_seed=123, noise=0)\n",
    "matrix = trial_run['payoff matrix obtained']\n",
    "defect = get_prob_of_defection(matrix, \"Support Enumeration\")\n",
    "defect"
   ]
  },
  {
   "cell_type": "code",
   "execution_count": 19,
   "metadata": {},
   "outputs": [
    {
     "data": {
      "text/plain": "False"
     },
     "execution_count": 19,
     "metadata": {},
     "output_type": "execute_result"
    }
   ],
   "source": [
    "def write_record(experiment_number, player_strategy_name, is_long_run_time, is_stochastic, memory_depth_of_strategy, prob_of_game_ending, payoff_matrix, num_of_repetitions, nash_equilibria, least_prob_of_defection, greatest_prob_of_defection, noise, could_be_degenerate):\n",
    "\n",
    "    payoff_matrix_as_string = functions.array_to_string(payoff_matrix)\n",
    "    num_of_equilibria = len(nash_equilibria)\n",
    "    nash_equilibria_as_string = functions.array_to_string(nash_equilibria)\n",
    "\n",
    "    record = (experiment_number, player, is_long_run_time, is_stochastic, memory_depth_of_strategy, prob_of_game_ending, payoff_matrix_as_string, num_of_repetitions, num_of_equilibria, nash_equilibria_as_string, least_prob_of_defection, greatest_prob_of_defection, noise, could_be_degenerate)\n",
    "\n",
    "    connect_dbms_to_db.execute(read_into_sql, record)"
   ]
  }
 ]
}