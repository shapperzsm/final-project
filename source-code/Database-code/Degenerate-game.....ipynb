{
 "nbformat": 4,
 "nbformat_minor": 2,
 "metadata": {
  "language_info": {
   "name": "python",
   "codemirror_mode": {
    "name": "ipython",
    "version": 3
   }
  },
  "orig_nbformat": 2,
  "file_extension": ".py",
  "mimetype": "text/x-python",
  "name": "python",
  "npconvert_exporter": "python",
  "pygments_lexer": "ipython3",
  "version": 3
 },
 "cells": [
  {
   "cell_type": "code",
   "execution_count": 1,
   "metadata": {},
   "outputs": [],
   "source": [
    "import nashpy as nash\n",
    "import numpy as np"
   ]
  },
  {
   "cell_type": "code",
   "execution_count": 3,
   "metadata": {},
   "outputs": [],
   "source": [
    "game_matrix = np.array([[2.75, 0.5,  2.4,  0.6 ],\n",
    " [4.,   1.3,  2.7,  1.5 ],\n",
    " [2.9,  1.2,  2.15, 2.1 ],\n",
    " [4.6,  2.,   2.1,  1.65]])"
   ]
  },
  {
   "cell_type": "code",
   "execution_count": 5,
   "metadata": {},
   "outputs": [
    {
     "name": "stderr",
     "output_type": "stream",
     "text": "C:\\Users\\sophi\\Anaconda3\\lib\\site-packages\\nashpy\\algorithms\\support_enumeration.py:196: RuntimeWarning: \nAn even number of (0) equilibria was returned. This\nindicates that the game is degenerate. Consider using another algorithm\nto investigate.\n                  \n  warnings.warn(warning, RuntimeWarning)\n"
    },
    {
     "data": {
      "text/plain": "[]"
     },
     "execution_count": 5,
     "metadata": {},
     "output_type": "execute_result"
    }
   ],
   "source": [
    "list(nash.Game(game_matrix, game_matrix.transpose()).support_enumeration())"
   ]
  },
  {
   "cell_type": "code",
   "execution_count": 6,
   "metadata": {},
   "outputs": [
    {
     "data": {
      "text/plain": "[(array([-3.96146399e-17,  2.39740821e-01,  3.75809935e-01,  3.84449244e-01]),\n  array([-3.96146399e-17,  2.39740821e-01,  3.75809935e-01,  3.84449244e-01]))]"
     },
     "execution_count": 6,
     "metadata": {},
     "output_type": "execute_result"
    }
   ],
   "source": [
    "list(nash.Game(game_matrix, game_matrix.transpose()).vertex_enumeration())"
   ]
  },
  {
   "cell_type": "code",
   "execution_count": 7,
   "metadata": {},
   "outputs": [
    {
     "data": {
      "text/plain": "[(array([0.        , 0.23974082, 0.37580994, 0.38444924]),\n  array([0.        , 0.23974082, 0.37580994, 0.38444924])),\n (array([0.        , 0.23974082, 0.37580994, 0.38444924]),\n  array([0.        , 0.23974082, 0.37580994, 0.38444924])),\n (array([0.        , 0.23974082, 0.37580994, 0.38444924]),\n  array([0.        , 0.23974082, 0.37580994, 0.38444924])),\n (array([0.        , 0.23974082, 0.37580994, 0.38444924]),\n  array([0.        , 0.23974082, 0.37580994, 0.38444924])),\n (array([0.        , 0.23974082, 0.37580994, 0.38444924]),\n  array([0.        , 0.23974082, 0.37580994, 0.38444924])),\n (array([0.        , 0.23974082, 0.37580994, 0.38444924]),\n  array([0.        , 0.23974082, 0.37580994, 0.38444924])),\n (array([0.        , 0.23974082, 0.37580994, 0.38444924]),\n  array([0.        , 0.23974082, 0.37580994, 0.38444924])),\n (array([0.        , 0.23974082, 0.37580994, 0.38444924]),\n  array([0.        , 0.23974082, 0.37580994, 0.38444924]))]"
     },
     "execution_count": 7,
     "metadata": {},
     "output_type": "execute_result"
    }
   ],
   "source": [
    "list(nash.Game(game_matrix, game_matrix.transpose()).lemke_howson_enumeration())"
   ]
  },
  {
   "cell_type": "code",
   "execution_count": null,
   "metadata": {},
   "outputs": [],
   "source": []
  }
 ]
}